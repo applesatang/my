{
 "cells": [
  {
   "cell_type": "markdown",
   "id": "01589e4c-2ab5-4b9b-84e5-f31e8f0164d9",
   "metadata": {},
   "source": [
    "# 작업 3유형"
   ]
  },
  {
   "cell_type": "code",
   "execution_count": 3,
   "id": "9ad2f4d0-a95f-4d1b-8e36-f720e104064e",
   "metadata": {},
   "outputs": [
    {
     "data": {
      "text/html": [
       "<div>\n",
       "<style scoped>\n",
       "    .dataframe tbody tr th:only-of-type {\n",
       "        vertical-align: middle;\n",
       "    }\n",
       "\n",
       "    .dataframe tbody tr th {\n",
       "        vertical-align: top;\n",
       "    }\n",
       "\n",
       "    .dataframe thead th {\n",
       "        text-align: right;\n",
       "    }\n",
       "</style>\n",
       "<table border=\"1\" class=\"dataframe\">\n",
       "  <thead>\n",
       "    <tr style=\"text-align: right;\">\n",
       "      <th></th>\n",
       "      <th>fish</th>\n",
       "      <th>height</th>\n",
       "    </tr>\n",
       "  </thead>\n",
       "  <tbody>\n",
       "    <tr>\n",
       "      <th>0</th>\n",
       "      <td>fish_1</td>\n",
       "      <td>33.74cm</td>\n",
       "    </tr>\n",
       "    <tr>\n",
       "      <th>1</th>\n",
       "      <td>fish_2</td>\n",
       "      <td>31.64cm</td>\n",
       "    </tr>\n",
       "    <tr>\n",
       "      <th>2</th>\n",
       "      <td>fish_3</td>\n",
       "      <td>27.49cm</td>\n",
       "    </tr>\n",
       "    <tr>\n",
       "      <th>3</th>\n",
       "      <td>fish_4</td>\n",
       "      <td>31.43cm</td>\n",
       "    </tr>\n",
       "    <tr>\n",
       "      <th>4</th>\n",
       "      <td>fish_5</td>\n",
       "      <td>27.56cm</td>\n",
       "    </tr>\n",
       "  </tbody>\n",
       "</table>\n",
       "</div>"
      ],
      "text/plain": [
       "     fish   height\n",
       "0  fish_1  33.74cm\n",
       "1  fish_2  31.64cm\n",
       "2  fish_3  27.49cm\n",
       "3  fish_4  31.43cm\n",
       "4  fish_5  27.56cm"
      ]
     },
     "metadata": {},
     "output_type": "display_data"
    },
    {
     "name": "stdout",
     "output_type": "stream",
     "text": [
      "None\n"
     ]
    }
   ],
   "source": [
    "import pandas as pd\n",
    "df = pd.read_csv('https://raw.githubusercontent.com/Datamanim/datarepo/main/krdatacertificate/e2_p3_1.csv')\n",
    "print(display(df. head(5)))"
   ]
  },
  {
   "cell_type": "markdown",
   "id": "6e6ea0b5-9a32-4349-97a4-a7d1ba1f6e05",
   "metadata": {},
   "source": [
    "## 122마리의 height 평균값을 m(미터) 단위로 소숫점 이하 5자리까지 실수 값만 출력하라"
   ]
  },
  {
   "cell_type": "code",
   "execution_count": 14,
   "id": "d773c18a-e45f-476b-b968-df567abcbdb8",
   "metadata": {},
   "outputs": [
    {
     "name": "stdout",
     "output_type": "stream",
     "text": [
      "0.29951\n"
     ]
    }
   ],
   "source": [
    "# df.info()\n",
    "df['height_m'] = df.height.str.replace('cm','').astype('float')\n",
    "result = round((df['height_m'].mean()/100),5)\n",
    "print(result)"
   ]
  },
  {
   "cell_type": "markdown",
   "id": "bd0928a9-b762-49be-a0b4-dc43e297496a",
   "metadata": {},
   "source": [
    "## 모집단의 평균길이가 30cm인지 확인하려 일표본 t검정을 시행하여 확인하려한다. 검정통계량을 소숫점 이하 3자리까지 구하여라"
   ]
  },
  {
   "cell_type": "code",
   "execution_count": 15,
   "id": "aa678fd9-ab93-4e94-bc3a-fafe6d2f2917",
   "metadata": {},
   "outputs": [
    {
     "name": "stdout",
     "output_type": "stream",
     "text": [
      "-0.217\n"
     ]
    }
   ],
   "source": [
    "from scipy.stats import ttest_1samp\n",
    "\n",
    "s , p = ttest_1samp(df['height_m'],30)\n",
    "result = round(s,3)\n",
    "print(result)"
   ]
  },
  {
   "cell_type": "markdown",
   "id": "206f9a39-8772-4de4-a783-8c8bc4c2b240",
   "metadata": {},
   "source": [
    "### 위의 통계량에 대한 p-값을 구하고(반올림하여 소숫점 이하 3째자리), 유의수준 0.05 이하에서 귀무가설과 대립가설 중 유의한 가설을 하나 택하시오"
   ]
  },
  {
   "cell_type": "code",
   "execution_count": 20,
   "id": "1c45dddd-5276-4c0c-a119-c7fae737c4c6",
   "metadata": {},
   "outputs": [
    {
     "name": "stdout",
     "output_type": "stream",
     "text": [
      "0.829\n",
      "귀무\n"
     ]
    }
   ],
   "source": [
    "result_1 = round(p,3)\n",
    "result_2 = '귀무'\n",
    "print(result_1)\n",
    "print(result_2)"
   ]
  },
  {
   "cell_type": "markdown",
   "id": "8db49438-ef4d-4d9a-b11c-cd76add9f52b",
   "metadata": {},
   "source": [
    "## 조사결과 70%의 성인 남성이 3년동안에 적어도 1번 치과를 찾는다고 할 때, 21명의 성인 남성이 임의로 추출되었다고 하자.\n",
    "### 21명 중 16명 미만이 치과를 찾았을 확률 (반올림하여 소숫점 이하 3자리)"
   ]
  },
  {
   "cell_type": "code",
   "execution_count": 21,
   "id": "87032f43-05da-4f7e-964d-4b3d76154a83",
   "metadata": {},
   "outputs": [
    {
     "name": "stdout",
     "output_type": "stream",
     "text": [
      "0.637\n"
     ]
    }
   ],
   "source": [
    "from scipy.stats import binom\n",
    "#21명 중\n",
    "n = 21\n",
    "#70%가\n",
    "p = 0.7\n",
    "#16명 미만이\n",
    "k = 16\n",
    "\n",
    "# P ( X < k) 계산\n",
    "prob = binom.cdf(k-1,n,p)\n",
    "print(round(prob,3))"
   ]
  },
  {
   "cell_type": "markdown",
   "id": "292f0eda-e625-4d6b-b461-58ff3b044d55",
   "metadata": {},
   "source": [
    "### 적어도 19명이 치과를 찾았을 확률 (반올림하여 소숫점 이하 3자리)"
   ]
  },
  {
   "cell_type": "code",
   "execution_count": 22,
   "id": "36427efd-934f-4dd7-bbe5-4cb05fdfa0f7",
   "metadata": {},
   "outputs": [
    {
     "name": "stdout",
     "output_type": "stream",
     "text": [
      "0.027\n"
     ]
    }
   ],
   "source": [
    "from scipy.stats import binom\n",
    "\n",
    "n = 21\n",
    "p = 0.7\n",
    "k = 19\n",
    "\n",
    "#P(X >= k ) 계산\n",
    "prob = 1 - binom.cdf(k-1, n, p)\n",
    "print(round(prob,3))"
   ]
  },
  {
   "cell_type": "markdown",
   "id": "a996d684-d684-4d80-bc49-685e33cbbe6b",
   "metadata": {},
   "source": [
    "# 작업 2유형\n",
    "### 정시 도착 여부 (1:정시배송, 0 : 정시미배송)\n",
    "### 평가지표 f1_score"
   ]
  },
  {
   "cell_type": "code",
   "execution_count": 39,
   "id": "7ad3e01f-f3eb-4666-b3d3-da8cd0b86f7c",
   "metadata": {},
   "outputs": [
    {
     "data": {
      "text/html": [
       "<div>\n",
       "<style scoped>\n",
       "    .dataframe tbody tr th:only-of-type {\n",
       "        vertical-align: middle;\n",
       "    }\n",
       "\n",
       "    .dataframe tbody tr th {\n",
       "        vertical-align: top;\n",
       "    }\n",
       "\n",
       "    .dataframe thead th {\n",
       "        text-align: right;\n",
       "    }\n",
       "</style>\n",
       "<table border=\"1\" class=\"dataframe\">\n",
       "  <thead>\n",
       "    <tr style=\"text-align: right;\">\n",
       "      <th></th>\n",
       "      <th>ID</th>\n",
       "      <th>Warehouse_block</th>\n",
       "      <th>Mode_of_Shipment</th>\n",
       "      <th>Customer_care_calls</th>\n",
       "      <th>Customer_rating</th>\n",
       "      <th>Cost_of_the_Product</th>\n",
       "      <th>Prior_purchases</th>\n",
       "      <th>Product_importance</th>\n",
       "      <th>Gender</th>\n",
       "      <th>Discount_offered</th>\n",
       "      <th>Weight_in_gms</th>\n",
       "    </tr>\n",
       "  </thead>\n",
       "  <tbody>\n",
       "    <tr>\n",
       "      <th>0</th>\n",
       "      <td>6045</td>\n",
       "      <td>A</td>\n",
       "      <td>Flight</td>\n",
       "      <td>4</td>\n",
       "      <td>3</td>\n",
       "      <td>266</td>\n",
       "      <td>5</td>\n",
       "      <td>high</td>\n",
       "      <td>F</td>\n",
       "      <td>5</td>\n",
       "      <td>1590</td>\n",
       "    </tr>\n",
       "    <tr>\n",
       "      <th>1</th>\n",
       "      <td>44</td>\n",
       "      <td>F</td>\n",
       "      <td>Ship</td>\n",
       "      <td>3</td>\n",
       "      <td>1</td>\n",
       "      <td>174</td>\n",
       "      <td>2</td>\n",
       "      <td>low</td>\n",
       "      <td>M</td>\n",
       "      <td>44</td>\n",
       "      <td>1556</td>\n",
       "    </tr>\n",
       "    <tr>\n",
       "      <th>2</th>\n",
       "      <td>7940</td>\n",
       "      <td>F</td>\n",
       "      <td>Road</td>\n",
       "      <td>4</td>\n",
       "      <td>1</td>\n",
       "      <td>154</td>\n",
       "      <td>10</td>\n",
       "      <td>high</td>\n",
       "      <td>M</td>\n",
       "      <td>10</td>\n",
       "      <td>5674</td>\n",
       "    </tr>\n",
       "    <tr>\n",
       "      <th>3</th>\n",
       "      <td>1596</td>\n",
       "      <td>F</td>\n",
       "      <td>Ship</td>\n",
       "      <td>4</td>\n",
       "      <td>3</td>\n",
       "      <td>158</td>\n",
       "      <td>3</td>\n",
       "      <td>medium</td>\n",
       "      <td>F</td>\n",
       "      <td>27</td>\n",
       "      <td>1207</td>\n",
       "    </tr>\n",
       "    <tr>\n",
       "      <th>4</th>\n",
       "      <td>4395</td>\n",
       "      <td>A</td>\n",
       "      <td>Flight</td>\n",
       "      <td>5</td>\n",
       "      <td>3</td>\n",
       "      <td>175</td>\n",
       "      <td>3</td>\n",
       "      <td>low</td>\n",
       "      <td>M</td>\n",
       "      <td>7</td>\n",
       "      <td>4833</td>\n",
       "    </tr>\n",
       "  </tbody>\n",
       "</table>\n",
       "</div>"
      ],
      "text/plain": [
       "     ID Warehouse_block Mode_of_Shipment Customer_care_calls  Customer_rating  \\\n",
       "0  6045               A           Flight                   4                3   \n",
       "1    44               F             Ship                   3                1   \n",
       "2  7940               F             Road                   4                1   \n",
       "3  1596               F             Ship                   4                3   \n",
       "4  4395               A           Flight                   5                3   \n",
       "\n",
       "   Cost_of_the_Product  Prior_purchases Product_importance Gender  \\\n",
       "0                  266                5               high      F   \n",
       "1                  174                2                low      M   \n",
       "2                  154               10               high      M   \n",
       "3                  158                3             medium      F   \n",
       "4                  175                3                low      M   \n",
       "\n",
       "   Discount_offered  Weight_in_gms  \n",
       "0                 5           1590  \n",
       "1                44           1556  \n",
       "2                10           5674  \n",
       "3                27           1207  \n",
       "4                 7           4833  "
      ]
     },
     "metadata": {},
     "output_type": "display_data"
    },
    {
     "data": {
      "text/html": [
       "<div>\n",
       "<style scoped>\n",
       "    .dataframe tbody tr th:only-of-type {\n",
       "        vertical-align: middle;\n",
       "    }\n",
       "\n",
       "    .dataframe tbody tr th {\n",
       "        vertical-align: top;\n",
       "    }\n",
       "\n",
       "    .dataframe thead th {\n",
       "        text-align: right;\n",
       "    }\n",
       "</style>\n",
       "<table border=\"1\" class=\"dataframe\">\n",
       "  <thead>\n",
       "    <tr style=\"text-align: right;\">\n",
       "      <th></th>\n",
       "      <th>ID</th>\n",
       "      <th>Reached.on.Time_Y.N</th>\n",
       "    </tr>\n",
       "  </thead>\n",
       "  <tbody>\n",
       "    <tr>\n",
       "      <th>0</th>\n",
       "      <td>6045</td>\n",
       "      <td>0</td>\n",
       "    </tr>\n",
       "    <tr>\n",
       "      <th>1</th>\n",
       "      <td>44</td>\n",
       "      <td>1</td>\n",
       "    </tr>\n",
       "    <tr>\n",
       "      <th>2</th>\n",
       "      <td>7940</td>\n",
       "      <td>1</td>\n",
       "    </tr>\n",
       "    <tr>\n",
       "      <th>3</th>\n",
       "      <td>1596</td>\n",
       "      <td>1</td>\n",
       "    </tr>\n",
       "    <tr>\n",
       "      <th>4</th>\n",
       "      <td>4395</td>\n",
       "      <td>1</td>\n",
       "    </tr>\n",
       "  </tbody>\n",
       "</table>\n",
       "</div>"
      ],
      "text/plain": [
       "     ID  Reached.on.Time_Y.N\n",
       "0  6045                    0\n",
       "1    44                    1\n",
       "2  7940                    1\n",
       "3  1596                    1\n",
       "4  4395                    1"
      ]
     },
     "metadata": {},
     "output_type": "display_data"
    },
    {
     "name": "stdout",
     "output_type": "stream",
     "text": [
      "train f1 score :  1.0\n",
      "val f1 score :  0.6744089589382\n"
     ]
    },
    {
     "data": {
      "text/html": [
       "<div>\n",
       "<style scoped>\n",
       "    .dataframe tbody tr th:only-of-type {\n",
       "        vertical-align: middle;\n",
       "    }\n",
       "\n",
       "    .dataframe tbody tr th {\n",
       "        vertical-align: top;\n",
       "    }\n",
       "\n",
       "    .dataframe thead th {\n",
       "        text-align: right;\n",
       "    }\n",
       "</style>\n",
       "<table border=\"1\" class=\"dataframe\">\n",
       "  <thead>\n",
       "    <tr style=\"text-align: right;\">\n",
       "      <th></th>\n",
       "      <th>ID</th>\n",
       "      <th>Reached.on.Time_Y.N</th>\n",
       "    </tr>\n",
       "  </thead>\n",
       "  <tbody>\n",
       "    <tr>\n",
       "      <th>0</th>\n",
       "      <td>6811</td>\n",
       "      <td>1</td>\n",
       "    </tr>\n",
       "    <tr>\n",
       "      <th>1</th>\n",
       "      <td>4320</td>\n",
       "      <td>0</td>\n",
       "    </tr>\n",
       "    <tr>\n",
       "      <th>2</th>\n",
       "      <td>5732</td>\n",
       "      <td>0</td>\n",
       "    </tr>\n",
       "    <tr>\n",
       "      <th>3</th>\n",
       "      <td>7429</td>\n",
       "      <td>1</td>\n",
       "    </tr>\n",
       "    <tr>\n",
       "      <th>4</th>\n",
       "      <td>2191</td>\n",
       "      <td>1</td>\n",
       "    </tr>\n",
       "    <tr>\n",
       "      <th>...</th>\n",
       "      <td>...</td>\n",
       "      <td>...</td>\n",
       "    </tr>\n",
       "    <tr>\n",
       "      <th>4396</th>\n",
       "      <td>2610</td>\n",
       "      <td>1</td>\n",
       "    </tr>\n",
       "    <tr>\n",
       "      <th>4397</th>\n",
       "      <td>3406</td>\n",
       "      <td>1</td>\n",
       "    </tr>\n",
       "    <tr>\n",
       "      <th>4398</th>\n",
       "      <td>10395</td>\n",
       "      <td>1</td>\n",
       "    </tr>\n",
       "    <tr>\n",
       "      <th>4399</th>\n",
       "      <td>3646</td>\n",
       "      <td>0</td>\n",
       "    </tr>\n",
       "    <tr>\n",
       "      <th>4400</th>\n",
       "      <td>573</td>\n",
       "      <td>1</td>\n",
       "    </tr>\n",
       "  </tbody>\n",
       "</table>\n",
       "<p>4401 rows × 2 columns</p>\n",
       "</div>"
      ],
      "text/plain": [
       "         ID  Reached.on.Time_Y.N\n",
       "0      6811                    1\n",
       "1      4320                    0\n",
       "2      5732                    0\n",
       "3      7429                    1\n",
       "4      2191                    1\n",
       "...     ...                  ...\n",
       "4396   2610                    1\n",
       "4397   3406                    1\n",
       "4398  10395                    1\n",
       "4399   3646                    0\n",
       "4400    573                    1\n",
       "\n",
       "[4401 rows x 2 columns]"
      ]
     },
     "metadata": {},
     "output_type": "display_data"
    }
   ],
   "source": [
    "import pandas as pd\n",
    "\n",
    "x_train = pd.read_csv('https://raw.githubusercontent.com/Datamanim/datarepo/main/shipping/X_train.csv')\n",
    "x_test = pd.read_csv('https://raw.githubusercontent.com/Datamanim/datarepo/main/shipping/X_test.csv')\n",
    "y_train = pd.read_csv('https://raw.githubusercontent.com/Datamanim/datarepo/main/shipping/y_train.csv')\n",
    "\n",
    "display(x_train.head())\n",
    "display(y_train.head())\n",
    "\n",
    "# print(x_train.info())\n",
    "# print(x_train.nunique())\n",
    "# print(x_train.isnull().sum())\n",
    "\n",
    "drop_col = ['ID']\n",
    "\n",
    "x_train_drop = x_train.drop(columns = drop_col)\n",
    "x_test_drop = x_test.drop(columns = drop_col)\n",
    "y = y_train['Reached.on.Time_Y.N']\n",
    "\n",
    "x_train_dummies = pd.get_dummies(x_train_drop)\n",
    "x_test_dummies = pd.get_dummies(x_test_drop)\n",
    "x_test_dummies = x_test_dummies[x_train_dummies.columns]\n",
    "\n",
    "# import sklearn\n",
    "# print(sklearn.__all__)\n",
    "# import sklearn.model_selection\n",
    "# print(dir(sklearn.model_selection))\n",
    "\n",
    "from sklearn.model_selection import train_test_split\n",
    "\n",
    "X_T,X_V,Y_T,Y_V = train_test_split(x_train_dummies,y, test_size = 0.33 , random_state = 42)\n",
    "\n",
    "from sklearn.ensemble import RandomForestClassifier\n",
    "\n",
    "rf = RandomForestClassifier(random_state = 23)\n",
    "\n",
    "rf.fit(X_T,Y_T)\n",
    "\n",
    "predict_train = rf.predict(X_T)\n",
    "predict_val = rf.predict(X_V)\n",
    "\n",
    "from sklearn.metrics import f1_score\n",
    "\n",
    "print('train f1 score : ' , f1_score(Y_T, predict_train))\n",
    "print('val f1 score : ', f1_score(Y_V, predict_val))\n",
    "\n",
    "predict_test = rf.predict(x_test_dummies)\n",
    "\n",
    "result = pd.DataFrame({'ID' : x_test.ID , 'Reached.on.Time_Y.N' : predict_test})\n",
    "result.to_csv('2test_2.csv',index = False)\n",
    "\n",
    "result_check = pd.read_csv('2test_2.csv')\n",
    "display(result_check)"
   ]
  },
  {
   "cell_type": "markdown",
   "id": "280bc5fd-82c3-4671-907f-9691731a2b14",
   "metadata": {},
   "source": [
    "## 작업 1유형\n",
    "### CRIM 가장 큰 10개의 지역을 구하고, 10개의 지역의 CRIM 값을 그 중 가장 작은 값으로 대체하라. 그리고, AGE 컬럼 값이 80이상인 대체된 CRIM 평균값을 구하라"
   ]
  },
  {
   "cell_type": "code",
   "execution_count": 28,
   "id": "6a1ad207-4916-4bd8-9dd4-c3b61d0782e6",
   "metadata": {},
   "outputs": [
    {
     "name": "stdout",
     "output_type": "stream",
     "text": [
      "      CRIM   ZN  INDUS  CHAS    NOX     RM   AGE     DIS  RAD    TAX  PTRATIO  \\\n",
      "0  0.00632  NaN   2.31     0  0.538  6.575  65.2  4.0900    1  296.0     15.3   \n",
      "1  0.02731  NaN   7.07     0  0.469  6.421  78.9  4.9671    2  242.0     17.8   \n",
      "2  0.02729  NaN   7.07     0  0.469  7.185  61.1  4.9671    2  242.0     17.8   \n",
      "3  0.03237  NaN   2.18     0  0.458  6.998  45.8  6.0622    3  222.0     18.7   \n",
      "4  0.06905  0.0   2.18     0  0.458    NaN  54.2  6.0622    3  222.0     18.7   \n",
      "\n",
      "        B  LSTAT  MEDV  \n",
      "0  396.90   4.98  24.0  \n",
      "1  396.90   9.14  21.6  \n",
      "2  392.83   4.03  34.7  \n",
      "3  394.63   2.94  33.4  \n",
      "4  396.90   5.33  36.2  \n",
      "         CRIM    ZN  INDUS  CHAS    NOX     RM    AGE     DIS  RAD    TAX  \\\n",
      "0    25.94060   0.0  18.10     0  0.671  6.968   91.9  1.4165   24  666.0   \n",
      "1    25.94060   0.0  18.10     0  0.679  5.957  100.0  1.8026   24  666.0   \n",
      "2    25.94060   0.0  18.10     0  0.693  5.683  100.0  1.4254   24  666.0   \n",
      "3    25.94060   0.0  18.10     0  0.597  5.757  100.0  1.4130   24  666.0   \n",
      "4    25.94060   0.0  18.10     0  0.693  4.519  100.0  1.6582   24  666.0   \n",
      "..        ...   ...    ...   ...    ...    ...    ...     ...  ...    ...   \n",
      "501   0.01311  90.0   1.22     0  0.403  7.249   21.9  8.6966    5  226.0   \n",
      "502   0.01301  35.0   1.52     0  0.442  7.241   49.3  7.0379    1  284.0   \n",
      "503   0.01096  55.0   2.25     0  0.389  6.453   31.9  7.3073    1  300.0   \n",
      "504   0.00906  90.0   2.97     0  0.400  7.088   20.8  7.3073    1  285.0   \n",
      "505   0.00632   NaN   2.31     0  0.538  6.575   65.2  4.0900    1  296.0   \n",
      "\n",
      "     PTRATIO       B  LSTAT  MEDV  \n",
      "0       20.2  396.90  17.21  10.4  \n",
      "1       20.2   16.45  20.62   8.8  \n",
      "2       20.2  384.97  22.98   5.0  \n",
      "3       20.2    2.60  10.11  15.0  \n",
      "4       20.2   88.27  36.98   7.0  \n",
      "..       ...     ...    ...   ...  \n",
      "501     17.9  395.93   4.81  35.4  \n",
      "502     15.5  394.74   5.49  32.7  \n",
      "503     15.3  394.72   8.23  22.0  \n",
      "504     15.3  394.72   7.85  32.2  \n",
      "505     15.3  396.90   4.98  24.0  \n",
      "\n",
      "[506 rows x 14 columns]\n",
      "5.759386625\n"
     ]
    }
   ],
   "source": [
    "import pandas as pd\n",
    "df = pd.read_csv('https://raw.githubusercontent.com/Datamanim/datarepo/main/krdatacertificate/e2_p1_1.csv')\n",
    "print(df.head())\n",
    "\n",
    "df1 = df.copy()\n",
    "df1 = df1.sort_values('CRIM',ascending = False).reset_index(drop=True)\n",
    "df1.loc[:9,'CRIM'] = df1.loc[:9,'CRIM'].min()\n",
    "print(df1)\n",
    "\n",
    "result = df1.loc[df1.AGE >=80].CRIM.mean()\n",
    "print(result)"
   ]
  },
  {
   "cell_type": "code",
   "execution_count": 29,
   "id": "e790503e-d932-4c4b-ac73-c37a27499f6f",
   "metadata": {},
   "outputs": [
    {
     "name": "stdout",
     "output_type": "stream",
     "text": [
      "0.027\n"
     ]
    }
   ],
   "source": [
    "# print(df1.isnull().sum())\n",
    "\n",
    "RM_median = df1.RM.median()\n",
    "df1.RM = df1.RM.fillna(RM_median)\n",
    "\n",
    "result = round(abs(df.RM.std()-df1.RM.std()),3)\n",
    "print(result)"
   ]
  },
  {
   "cell_type": "code",
   "execution_count": 39,
   "id": "1b12cdc9-2e6b-4842-878f-0bcfe54a865f",
   "metadata": {},
   "outputs": [
    {
     "name": "stdout",
     "output_type": "stream",
     "text": [
      "0.6364774978056191\n",
      "6.9536078776884525\n",
      "404.4101\n"
     ]
    }
   ],
   "source": [
    "dis_st1 = (df1.DIS.mean() - df1.DIS.std()*1.5)\n",
    "dis_st2 = (df1.DIS.mean() + df1.DIS.std()*1.5)\n",
    "print(dis_st1)\n",
    "print(dis_st2)\n",
    "result = df1.loc[(df1.DIS > dis_st2) | (df1.DIS < dis_st1)].DIS.sum()\n",
    "print(result)"
   ]
  },
  {
   "cell_type": "code",
   "execution_count": null,
   "id": "54124b90-557c-426d-8f83-49b680f70d29",
   "metadata": {},
   "outputs": [],
   "source": []
  }
 ],
 "metadata": {
  "kernelspec": {
   "display_name": "Python 3 (ipykernel)",
   "language": "python",
   "name": "python3"
  },
  "language_info": {
   "codemirror_mode": {
    "name": "ipython",
    "version": 3
   },
   "file_extension": ".py",
   "mimetype": "text/x-python",
   "name": "python",
   "nbconvert_exporter": "python",
   "pygments_lexer": "ipython3",
   "version": "3.10.9"
  }
 },
 "nbformat": 4,
 "nbformat_minor": 5
}
