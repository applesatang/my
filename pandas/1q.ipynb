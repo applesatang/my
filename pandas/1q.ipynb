{
 "cells": [
  {
   "cell_type": "code",
   "execution_count": 1,
   "id": "ec0e04f9",
   "metadata": {},
   "outputs": [
    {
     "data": {
      "text/html": [
       "<style>.container { width:90% !important; }</style>"
      ],
      "text/plain": [
       "<IPython.core.display.HTML object>"
      ]
     },
     "metadata": {},
     "output_type": "display_data"
    }
   ],
   "source": [
    "from IPython.display import display, HTML\n",
    "display(HTML(\"<style>.container { width:90% !important; }</style>\"))"
   ]
  },
  {
   "cell_type": "markdown",
   "id": "838daeda",
   "metadata": {},
   "source": [
    "# 작업 1유형"
   ]
  },
  {
   "cell_type": "markdown",
   "id": "197be91e",
   "metadata": {},
   "source": [
    "### 웹 광고 눌러주세요 ㅎㅎ"
   ]
  },
  {
   "cell_type": "markdown",
   "id": "8178c0f8",
   "metadata": {},
   "source": [
    "- 주피터 노트북 사용법에 대한 설명 x\n",
    "- `작업 1유형 연습문제` 114문제 풀이\n",
    "- 문법에 대한 깊이 있는 설명은 `전처리 100문제` 참고"
   ]
  },
  {
   "cell_type": "markdown",
   "id": "e62e961a",
   "metadata": {},
   "source": [
    "### 유튜브 인기동영상 데이터 "
   ]
  },
  {
   "cell_type": "code",
   "execution_count": 2,
   "id": "b042b671",
   "metadata": {
    "ExecuteTime": {
     "end_time": "2022-01-31T04:16:13.530672Z",
     "start_time": "2022-01-31T04:16:11.266309Z"
    }
   },
   "outputs": [
    {
     "name": "stdout",
     "output_type": "stream",
     "text": [
      "<class 'pandas.core.frame.DataFrame'>\n",
      "Int64Index: 60399 entries, 0 to 60398\n",
      "Data columns (total 9 columns):\n",
      " #   Column          Non-Null Count  Dtype \n",
      "---  ------          --------------  ----- \n",
      " 0   title           60399 non-null  object\n",
      " 1   channelTitle    60399 non-null  object\n",
      " 2   categoryId      60399 non-null  int64 \n",
      " 3   view_count      60399 non-null  int64 \n",
      " 4   likes           60399 non-null  int64 \n",
      " 5   dislikes        60399 non-null  int64 \n",
      " 6   comment_count   60399 non-null  int64 \n",
      " 7   channelId       60399 non-null  object\n",
      " 8   trending_date2  60399 non-null  object\n",
      "dtypes: int64(5), object(4)\n",
      "memory usage: 4.6+ MB\n"
     ]
    }
   ],
   "source": [
    "import pandas as pd\n",
    "df = pd.read_csv(\"https://raw.githubusercontent.com/Datamanim/datarepo/main/youtube/youtube.csv\",index_col=0)\n",
    "df.info()"
   ]
  },
  {
   "cell_type": "markdown",
   "id": "422fa8f9",
   "metadata": {},
   "source": [
    "## Question 1\n",
    "### **인기동영상 제작횟수가 많은 채널 상위 10개명을 출력하라 (날짜기준, 중복포함)**"
   ]
  },
  {
   "cell_type": "code",
   "execution_count": 3,
   "id": "c94af923-d96a-406b-a4f9-72b58f1c1b9e",
   "metadata": {},
   "outputs": [
    {
     "name": "stdout",
     "output_type": "stream",
     "text": [
      "['장삐쭈' '총몇명' '파뿌리' '짤툰' '런닝맨 - 스브스 공식 채널' '엠뚜루마뚜루 : MBC 공식 종합 채널' 'SPOTV'\n",
      " '채널 십오야' '이과장' 'BANGTANTV']\n"
     ]
    }
   ],
   "source": [
    "top10 = df.loc[df['channelId'].isin(df.groupby('channelId').size().reset_index(name='counts').sort_values(by='counts', ascending=False).head(10)['channelId'])]['channelTitle'].unique()\n",
    "print(top10)"
   ]
  },
  {
   "cell_type": "code",
   "execution_count": 4,
   "id": "11a4f0c5-2e90-47ba-bc0d-b950becd120f",
   "metadata": {},
   "outputs": [
    {
     "name": "stdout",
     "output_type": "stream",
     "text": [
      "['장삐쭈', '총몇명', '파뿌리', '짤툰', '런닝맨 - 스브스 공식 채널', '엠뚜루마뚜루 : MBC 공식 종합 채널', 'SPOTV', '채널 십오야', '이과장', 'BANGTANTV']\n"
     ]
    }
   ],
   "source": [
    "answer =list(df.loc[df.channelId.isin(df.channelId.value_counts().head(10).index)].channelTitle.unique())\n",
    "print(answer)"
   ]
  },
  {
   "cell_type": "markdown",
   "id": "ba8fc5b2-dfd2-45da-8cba-1db9fe278448",
   "metadata": {},
   "source": [
    "## Question 2\n",
    "### **논란으로 인기동영상이 된 케이스를 확인하고 싶다. dislikes수가 like 수보다 높은 동영상을 제작한 채널을 모두 출력하라**"
   ]
  },
  {
   "cell_type": "code",
   "execution_count": 5,
   "id": "6f672de1-c663-4f41-9d34-19dd35712534",
   "metadata": {},
   "outputs": [
    {
     "data": {
      "text/plain": [
       "Index(['title', 'channelTitle', 'categoryId', 'view_count', 'likes',\n",
       "       'dislikes', 'comment_count', 'channelId', 'trending_date2'],\n",
       "      dtype='object')"
      ]
     },
     "execution_count": 5,
     "metadata": {},
     "output_type": "execute_result"
    }
   ],
   "source": [
    "df.columns"
   ]
  },
  {
   "cell_type": "code",
   "execution_count": 6,
   "id": "d75d1bf2-a6e7-48a0-864e-8c2d4e81b9d5",
   "metadata": {},
   "outputs": [
    {
     "name": "stdout",
     "output_type": "stream",
     "text": [
      "['핫도그TV', 'ASMR 애정TV', '하얀트리HayanTree', '양팡 YangPang', '철구형 (CHULTUBE)', '왜냐맨하우스', '(MUTUBE)와꾸대장봉준', '오메킴TV', '육지담', 'MapleStory_KR', 'ROAD FIGHTING CHAMPIONSHIP', '사나이 김기훈', '나혼자산다 STUDIO', 'Gen.G esports']\n"
     ]
    }
   ],
   "source": [
    "answer = list(df.loc[df.likes < df.dislikes].channelTitle.unique())\n",
    "print(answer)"
   ]
  },
  {
   "cell_type": "markdown",
   "id": "e0b4dad8",
   "metadata": {},
   "source": [
    "## Question 3\n",
    "### **채널명을 바꾼 케이스가 있는지 확인하고 싶다. channelId의 경우 고유값이므로 이를 통해 채널명을 한번이라도 바꾼 채널의 갯수를 구하여라**"
   ]
  },
  {
   "cell_type": "code",
   "execution_count": 7,
   "id": "46dd3df0-7a8f-47eb-8683-1942418da77a",
   "metadata": {},
   "outputs": [
    {
     "name": "stdout",
     "output_type": "stream",
     "text": [
      "71\n"
     ]
    }
   ],
   "source": [
    "change = df[['channelId','channelTitle']].drop_duplicates().channelId.value_counts()\n",
    "target = change[change>1]\n",
    "print(len(target))"
   ]
  },
  {
   "cell_type": "markdown",
   "id": "294d9b0f",
   "metadata": {},
   "source": [
    "## Question 4\n",
    "### **일요일에  인기있었던 영상들중 가장많은 영상 종류(categoryId)는 무엇인가?**"
   ]
  },
  {
   "cell_type": "code",
   "execution_count": 15,
   "id": "d31867af-e983-415c-b87b-c6c9d521d82d",
   "metadata": {},
   "outputs": [
    {
     "name": "stderr",
     "output_type": "stream",
     "text": [
      "C:\\Users\\keria\\AppData\\Local\\Temp\\ipykernel_10356\\367805269.py:1: FutureWarning: Passing unit-less datetime64 dtype to .astype is deprecated and will raise in a future version. Pass 'datetime64[ns]' instead\n",
      "  df['trending_date2'] = df['trending_date2'].astype('datetime64')\n"
     ]
    },
    {
     "data": {
      "text/plain": [
       "0         Friday\n",
       "1         Friday\n",
       "2         Friday\n",
       "3         Friday\n",
       "4         Friday\n",
       "          ...   \n",
       "60394    Tuesday\n",
       "60395    Tuesday\n",
       "60396    Tuesday\n",
       "60397    Tuesday\n",
       "60398    Tuesday\n",
       "Name: trending_date2, Length: 60399, dtype: object"
      ]
     },
     "execution_count": 15,
     "metadata": {},
     "output_type": "execute_result"
    }
   ],
   "source": [
    "df['trending_date2'] = df['trending_date2'].astype('datetime64')"
   ]
  },
  {
   "cell_type": "code",
   "execution_count": 21,
   "id": "e17b5468-0265-433a-9b87-f49f4c801aa2",
   "metadata": {},
   "outputs": [
    {
     "data": {
      "text/plain": [
       "24"
      ]
     },
     "execution_count": 21,
     "metadata": {},
     "output_type": "execute_result"
    }
   ],
   "source": [
    "df.loc[df.trending_date2.dt.day_name() == 'Sunday'].categoryId.value_counts().index[0]"
   ]
  },
  {
   "cell_type": "markdown",
   "id": "1e159561",
   "metadata": {},
   "source": [
    "## Question 5\n",
    "### **각 요일별 인기 영상들의 categoryId는 각각 몇개 씩인지 하나의 데이터 프레임으로 표현하라**"
   ]
  },
  {
   "cell_type": "code",
   "execution_count": 30,
   "id": "a0208391-6dc9-4df5-9a46-3466697831d7",
   "metadata": {},
   "outputs": [
    {
     "data": {
      "text/html": [
       "<div>\n",
       "<style scoped>\n",
       "    .dataframe tbody tr th:only-of-type {\n",
       "        vertical-align: middle;\n",
       "    }\n",
       "\n",
       "    .dataframe tbody tr th {\n",
       "        vertical-align: top;\n",
       "    }\n",
       "\n",
       "    .dataframe thead th {\n",
       "        text-align: right;\n",
       "    }\n",
       "</style>\n",
       "<table border=\"1\" class=\"dataframe\">\n",
       "  <thead>\n",
       "    <tr style=\"text-align: right;\">\n",
       "      <th>trending_date2</th>\n",
       "      <th>Friday</th>\n",
       "      <th>Monday</th>\n",
       "      <th>Saturday</th>\n",
       "      <th>Sunday</th>\n",
       "      <th>Thursday</th>\n",
       "      <th>Tuesday</th>\n",
       "      <th>Wednesday</th>\n",
       "    </tr>\n",
       "    <tr>\n",
       "      <th>categoryId</th>\n",
       "      <th></th>\n",
       "      <th></th>\n",
       "      <th></th>\n",
       "      <th></th>\n",
       "      <th></th>\n",
       "      <th></th>\n",
       "      <th></th>\n",
       "    </tr>\n",
       "  </thead>\n",
       "  <tbody>\n",
       "    <tr>\n",
       "      <th>1</th>\n",
       "      <td>243</td>\n",
       "      <td>263</td>\n",
       "      <td>255</td>\n",
       "      <td>274</td>\n",
       "      <td>246</td>\n",
       "      <td>257</td>\n",
       "      <td>234</td>\n",
       "    </tr>\n",
       "    <tr>\n",
       "      <th>2</th>\n",
       "      <td>120</td>\n",
       "      <td>105</td>\n",
       "      <td>119</td>\n",
       "      <td>99</td>\n",
       "      <td>128</td>\n",
       "      <td>119</td>\n",
       "      <td>129</td>\n",
       "    </tr>\n",
       "    <tr>\n",
       "      <th>10</th>\n",
       "      <td>833</td>\n",
       "      <td>837</td>\n",
       "      <td>776</td>\n",
       "      <td>830</td>\n",
       "      <td>890</td>\n",
       "      <td>894</td>\n",
       "      <td>917</td>\n",
       "    </tr>\n",
       "    <tr>\n",
       "      <th>15</th>\n",
       "      <td>187</td>\n",
       "      <td>215</td>\n",
       "      <td>198</td>\n",
       "      <td>217</td>\n",
       "      <td>207</td>\n",
       "      <td>208</td>\n",
       "      <td>207</td>\n",
       "    </tr>\n",
       "    <tr>\n",
       "      <th>17</th>\n",
       "      <td>633</td>\n",
       "      <td>668</td>\n",
       "      <td>592</td>\n",
       "      <td>636</td>\n",
       "      <td>682</td>\n",
       "      <td>708</td>\n",
       "      <td>706</td>\n",
       "    </tr>\n",
       "    <tr>\n",
       "      <th>19</th>\n",
       "      <td>90</td>\n",
       "      <td>92</td>\n",
       "      <td>87</td>\n",
       "      <td>91</td>\n",
       "      <td>92</td>\n",
       "      <td>89</td>\n",
       "      <td>85</td>\n",
       "    </tr>\n",
       "    <tr>\n",
       "      <th>20</th>\n",
       "      <td>283</td>\n",
       "      <td>298</td>\n",
       "      <td>296</td>\n",
       "      <td>289</td>\n",
       "      <td>282</td>\n",
       "      <td>285</td>\n",
       "      <td>291</td>\n",
       "    </tr>\n",
       "    <tr>\n",
       "      <th>22</th>\n",
       "      <td>1288</td>\n",
       "      <td>1373</td>\n",
       "      <td>1289</td>\n",
       "      <td>1337</td>\n",
       "      <td>1341</td>\n",
       "      <td>1375</td>\n",
       "      <td>1333</td>\n",
       "    </tr>\n",
       "    <tr>\n",
       "      <th>23</th>\n",
       "      <td>568</td>\n",
       "      <td>594</td>\n",
       "      <td>570</td>\n",
       "      <td>556</td>\n",
       "      <td>560</td>\n",
       "      <td>569</td>\n",
       "      <td>566</td>\n",
       "    </tr>\n",
       "    <tr>\n",
       "      <th>24</th>\n",
       "      <td>2976</td>\n",
       "      <td>3148</td>\n",
       "      <td>3066</td>\n",
       "      <td>3096</td>\n",
       "      <td>2954</td>\n",
       "      <td>3084</td>\n",
       "      <td>3090</td>\n",
       "    </tr>\n",
       "    <tr>\n",
       "      <th>25</th>\n",
       "      <td>444</td>\n",
       "      <td>453</td>\n",
       "      <td>422</td>\n",
       "      <td>437</td>\n",
       "      <td>470</td>\n",
       "      <td>452</td>\n",
       "      <td>468</td>\n",
       "    </tr>\n",
       "    <tr>\n",
       "      <th>26</th>\n",
       "      <td>369</td>\n",
       "      <td>378</td>\n",
       "      <td>364</td>\n",
       "      <td>363</td>\n",
       "      <td>375</td>\n",
       "      <td>394</td>\n",
       "      <td>385</td>\n",
       "    </tr>\n",
       "    <tr>\n",
       "      <th>27</th>\n",
       "      <td>183</td>\n",
       "      <td>205</td>\n",
       "      <td>183</td>\n",
       "      <td>199</td>\n",
       "      <td>194</td>\n",
       "      <td>194</td>\n",
       "      <td>212</td>\n",
       "    </tr>\n",
       "    <tr>\n",
       "      <th>28</th>\n",
       "      <td>171</td>\n",
       "      <td>160</td>\n",
       "      <td>173</td>\n",
       "      <td>167</td>\n",
       "      <td>166</td>\n",
       "      <td>161</td>\n",
       "      <td>165</td>\n",
       "    </tr>\n",
       "    <tr>\n",
       "      <th>29</th>\n",
       "      <td>12</td>\n",
       "      <td>10</td>\n",
       "      <td>10</td>\n",
       "      <td>9</td>\n",
       "      <td>13</td>\n",
       "      <td>11</td>\n",
       "      <td>12</td>\n",
       "    </tr>\n",
       "  </tbody>\n",
       "</table>\n",
       "</div>"
      ],
      "text/plain": [
       "trending_date2  Friday  Monday  Saturday  Sunday  Thursday  Tuesday  Wednesday\n",
       "categoryId                                                                    \n",
       "1                  243     263       255     274       246      257        234\n",
       "2                  120     105       119      99       128      119        129\n",
       "10                 833     837       776     830       890      894        917\n",
       "15                 187     215       198     217       207      208        207\n",
       "17                 633     668       592     636       682      708        706\n",
       "19                  90      92        87      91        92       89         85\n",
       "20                 283     298       296     289       282      285        291\n",
       "22                1288    1373      1289    1337      1341     1375       1333\n",
       "23                 568     594       570     556       560      569        566\n",
       "24                2976    3148      3066    3096      2954     3084       3090\n",
       "25                 444     453       422     437       470      452        468\n",
       "26                 369     378       364     363       375      394        385\n",
       "27                 183     205       183     199       194      194        212\n",
       "28                 171     160       173     167       166      161        165\n",
       "29                  12      10        10       9        13       11         12"
      ]
     },
     "execution_count": 30,
     "metadata": {},
     "output_type": "execute_result"
    }
   ],
   "source": [
    "Ans = df.pivot_table ( index = 'categoryId' , columns = df.trending_date2.dt.day_name() , aggfunc = 'size')\n",
    "Ans"
   ]
  },
  {
   "cell_type": "markdown",
   "id": "1bd3d74d",
   "metadata": {},
   "source": [
    "## Question 6\n",
    "### **댓글의 수로 (comment_count) 영상 반응에 대한 판단을 할 수 있다. viewcount대비 댓글수가 가장 높은 영상을 확인하라 (view_count값이 0인 경우는 제외한다)**"
   ]
  },
  {
   "cell_type": "code",
   "execution_count": 43,
   "id": "d5d26996-d76e-4e33-919e-26faef7808fb",
   "metadata": {},
   "outputs": [
    {
     "name": "stdout",
     "output_type": "stream",
     "text": [
      "60분 동안 댓글이 달리지 않으면, 영상이 삭제됩니다. (챌린지)\n"
     ]
    }
   ],
   "source": [
    "target2 = df.loc[df.view_count != 0]\n",
    "t = target2.copy()\n",
    "t['ratio'] = (target2['comment_count']/target2['view_count']).dropna()\n",
    "result = t.sort_values(by = 'ratio', ascending = False).iloc[0].title\n",
    "print(result)"
   ]
  },
  {
   "cell_type": "markdown",
   "id": "cacd08e6",
   "metadata": {},
   "source": [
    "## Question 7\n",
    "### **댓글의 수로 (comment_count) 영상 반응에 대한 판단을 할 수 있다.viewcount대비 댓글수가 가장 낮은 영상을 확인하라 (view_counts, ratio값이 0인경우는 제외한다.)**"
   ]
  },
  {
   "cell_type": "code",
   "execution_count": 55,
   "id": "306ee72a-5c15-45cd-b213-9191467c618c",
   "metadata": {},
   "outputs": [
    {
     "name": "stdout",
     "output_type": "stream",
     "text": [
      "Join the BTS #PermissiontoDance Challenge only on YouTube #Shorts\n"
     ]
    }
   ],
   "source": [
    "result = t.sort_values(by = 'ratio' , ascending = True)\n",
    "result = result.loc[ result.ratio != 0].iloc[0].title\n",
    "print(result)"
   ]
  },
  {
   "cell_type": "markdown",
   "id": "0f2ed998",
   "metadata": {},
   "source": [
    "## Question 8\n",
    "### **like 대비 dislike의 수가 가장 적은 영상은 무엇인가? (like, dislike 값이 0인경우는 제외한다)**"
   ]
  },
  {
   "cell_type": "code",
   "execution_count": 63,
   "id": "3aa23ee9-ee02-40d4-b344-1291d1a075e8",
   "metadata": {},
   "outputs": [
    {
     "data": {
      "text/plain": [
       "'[줌터뷰] *최초공개* 사부작즈🐰🐶의 비공식 이름은 아이라인즈? 꿀조합 티키타카 가득한 NCT 127 도영&정우의 줌터뷰'"
      ]
     },
     "execution_count": 63,
     "metadata": {},
     "output_type": "execute_result"
    }
   ],
   "source": [
    "target1 = df.loc[(df.likes != 0) & (df.dislikes != 0)]\n",
    "t2 = target1.copy()\n",
    "t2['ratio'] = (target1['dislikes']/target1['likes']).dropna()\n",
    "t2.sort_values(by = 'ratio').iloc[0].title"
   ]
  },
  {
   "cell_type": "markdown",
   "id": "2c3e4e8a",
   "metadata": {},
   "source": [
    "## Question 9\n",
    "### **가장많은 트렌드 영상을 제작한 채널의 이름은 무엇인가? (날짜기준, 중복포함)**"
   ]
  },
  {
   "cell_type": "code",
   "execution_count": 70,
   "id": "519117e7-28f2-4920-a2d5-f83221516558",
   "metadata": {},
   "outputs": [
    {
     "name": "stdout",
     "output_type": "stream",
     "text": [
      "['짤툰']\n"
     ]
    }
   ],
   "source": [
    "Ans = df.loc[df.channelId == df.channelId.value_counts().index[0]].channelTitle.unique()\n",
    "print(Ans)"
   ]
  },
  {
   "cell_type": "markdown",
   "id": "9170a930",
   "metadata": {},
   "source": [
    "## Question 10\n",
    "### **20회(20일)이상 인기동영상 리스트에 포함된 동영상의 숫자는?**"
   ]
  },
  {
   "cell_type": "code",
   "execution_count": 75,
   "id": "59989382-4fad-4c8c-821f-10d747f3703b",
   "metadata": {},
   "outputs": [
    {
     "name": "stdout",
     "output_type": "stream",
     "text": [
      "40\n"
     ]
    }
   ],
   "source": [
    "answer = (df[['title','channelId']].value_counts() >= 20).sum()\n",
    "print(answer)"
   ]
  },
  {
   "cell_type": "markdown",
   "id": "15668fd7",
   "metadata": {},
   "source": [
    "### 유튜브 공범컨텐츠 동영상 데이터"
   ]
  },
  {
   "cell_type": "markdown",
   "id": "319690ad",
   "metadata": {},
   "source": [
    "```{attention} \n",
    "데이터 출처 :https://www.kaggle.com/kukuroo3/youtube-episodic-contents-kr(참고, 데이터 수정)     \n",
    "데이터 설명 : 유튜브 \"공범\" 컨텐츠 동영상 정보 ( 10분 간격 수집)    \n",
    "dataurl1 (비디오 정보) =    https://raw.githubusercontent.com/Datamanim/datarepo/main/youtube/videoInfo.csv    \n",
    "dataurl2 (참가자 채널 정보)=   https://raw.githubusercontent.com/Datamanim/datarepo/main/youtube/channelInfo.csv      \n",
    "```"
   ]
  },
  {
   "cell_type": "code",
   "execution_count": 76,
   "id": "ff5c743e",
   "metadata": {
    "ExecuteTime": {
     "end_time": "2022-01-31T04:25:31.045096Z",
     "start_time": "2022-01-31T04:25:30.151872Z"
    }
   },
   "outputs": [
    {
     "data": {
      "text/html": [
       "<div>\n",
       "<style scoped>\n",
       "    .dataframe tbody tr th:only-of-type {\n",
       "        vertical-align: middle;\n",
       "    }\n",
       "\n",
       "    .dataframe tbody tr th {\n",
       "        vertical-align: top;\n",
       "    }\n",
       "\n",
       "    .dataframe thead th {\n",
       "        text-align: right;\n",
       "    }\n",
       "</style>\n",
       "<table border=\"1\" class=\"dataframe\">\n",
       "  <thead>\n",
       "    <tr style=\"text-align: right;\">\n",
       "      <th></th>\n",
       "      <th>channelid</th>\n",
       "      <th>subcnt</th>\n",
       "      <th>viewcnt</th>\n",
       "      <th>videocnt</th>\n",
       "      <th>ct</th>\n",
       "      <th>channelname</th>\n",
       "    </tr>\n",
       "  </thead>\n",
       "  <tbody>\n",
       "    <tr>\n",
       "      <th>0</th>\n",
       "      <td>UCkQCwnkQfgSuPTTnw_Y7v7w</td>\n",
       "      <td>1310000</td>\n",
       "      <td>410238653</td>\n",
       "      <td>736</td>\n",
       "      <td>2021-09-30 03:01:03</td>\n",
       "      <td>꽈뚜룹</td>\n",
       "    </tr>\n",
       "    <tr>\n",
       "      <th>1</th>\n",
       "      <td>UCkQCwnkQfgSuPTTnw_Y7v7w</td>\n",
       "      <td>1310000</td>\n",
       "      <td>412531322</td>\n",
       "      <td>736</td>\n",
       "      <td>2021-09-30 09:01:03</td>\n",
       "      <td>꽈뚜룹</td>\n",
       "    </tr>\n",
       "    <tr>\n",
       "      <th>2</th>\n",
       "      <td>UCkQCwnkQfgSuPTTnw_Y7v7w</td>\n",
       "      <td>1310000</td>\n",
       "      <td>412531322</td>\n",
       "      <td>735</td>\n",
       "      <td>2021-09-30 15:01:03</td>\n",
       "      <td>꽈뚜룹</td>\n",
       "    </tr>\n",
       "    <tr>\n",
       "      <th>3</th>\n",
       "      <td>UCkQCwnkQfgSuPTTnw_Y7v7w</td>\n",
       "      <td>1310000</td>\n",
       "      <td>412531322</td>\n",
       "      <td>737</td>\n",
       "      <td>2021-09-30 21:01:03</td>\n",
       "      <td>꽈뚜룹</td>\n",
       "    </tr>\n",
       "    <tr>\n",
       "      <th>4</th>\n",
       "      <td>UCkQCwnkQfgSuPTTnw_Y7v7w</td>\n",
       "      <td>1320000</td>\n",
       "      <td>412531322</td>\n",
       "      <td>737</td>\n",
       "      <td>2021-10-01 03:01:04</td>\n",
       "      <td>꽈뚜룹</td>\n",
       "    </tr>\n",
       "  </tbody>\n",
       "</table>\n",
       "</div>"
      ],
      "text/plain": [
       "                  channelid   subcnt    viewcnt  videocnt  \\\n",
       "0  UCkQCwnkQfgSuPTTnw_Y7v7w  1310000  410238653       736   \n",
       "1  UCkQCwnkQfgSuPTTnw_Y7v7w  1310000  412531322       736   \n",
       "2  UCkQCwnkQfgSuPTTnw_Y7v7w  1310000  412531322       735   \n",
       "3  UCkQCwnkQfgSuPTTnw_Y7v7w  1310000  412531322       737   \n",
       "4  UCkQCwnkQfgSuPTTnw_Y7v7w  1320000  412531322       737   \n",
       "\n",
       "                    ct channelname  \n",
       "0  2021-09-30 03:01:03         꽈뚜룹  \n",
       "1  2021-09-30 09:01:03         꽈뚜룹  \n",
       "2  2021-09-30 15:01:03         꽈뚜룹  \n",
       "3  2021-09-30 21:01:03         꽈뚜룹  \n",
       "4  2021-10-01 03:01:04         꽈뚜룹  "
      ]
     },
     "metadata": {},
     "output_type": "display_data"
    },
    {
     "data": {
      "text/html": [
       "<div>\n",
       "<style scoped>\n",
       "    .dataframe tbody tr th:only-of-type {\n",
       "        vertical-align: middle;\n",
       "    }\n",
       "\n",
       "    .dataframe tbody tr th {\n",
       "        vertical-align: top;\n",
       "    }\n",
       "\n",
       "    .dataframe thead th {\n",
       "        text-align: right;\n",
       "    }\n",
       "</style>\n",
       "<table border=\"1\" class=\"dataframe\">\n",
       "  <thead>\n",
       "    <tr style=\"text-align: right;\">\n",
       "      <th></th>\n",
       "      <th>videopk</th>\n",
       "      <th>viewcnt</th>\n",
       "      <th>likecnt</th>\n",
       "      <th>dislikecnt</th>\n",
       "      <th>favoritecnt</th>\n",
       "      <th>cmcnt</th>\n",
       "      <th>ct</th>\n",
       "      <th>videoname</th>\n",
       "    </tr>\n",
       "  </thead>\n",
       "  <tbody>\n",
       "    <tr>\n",
       "      <th>0</th>\n",
       "      <td>c5JQp6xafqc</td>\n",
       "      <td>1667010</td>\n",
       "      <td>30474</td>\n",
       "      <td>706</td>\n",
       "      <td>0</td>\n",
       "      <td>6587</td>\n",
       "      <td>2021-10-10 15:20:03</td>\n",
       "      <td>공범 EP1</td>\n",
       "    </tr>\n",
       "    <tr>\n",
       "      <th>1</th>\n",
       "      <td>c5JQp6xafqc</td>\n",
       "      <td>1669089</td>\n",
       "      <td>30495</td>\n",
       "      <td>707</td>\n",
       "      <td>0</td>\n",
       "      <td>6589</td>\n",
       "      <td>2021-10-10 15:30:03</td>\n",
       "      <td>공범 EP1</td>\n",
       "    </tr>\n",
       "    <tr>\n",
       "      <th>2</th>\n",
       "      <td>c5JQp6xafqc</td>\n",
       "      <td>1674759</td>\n",
       "      <td>30522</td>\n",
       "      <td>711</td>\n",
       "      <td>0</td>\n",
       "      <td>6596</td>\n",
       "      <td>2021-10-10 15:40:02</td>\n",
       "      <td>공범 EP1</td>\n",
       "    </tr>\n",
       "    <tr>\n",
       "      <th>3</th>\n",
       "      <td>c5JQp6xafqc</td>\n",
       "      <td>1677026</td>\n",
       "      <td>30555</td>\n",
       "      <td>712</td>\n",
       "      <td>0</td>\n",
       "      <td>6604</td>\n",
       "      <td>2021-10-10 15:50:03</td>\n",
       "      <td>공범 EP1</td>\n",
       "    </tr>\n",
       "    <tr>\n",
       "      <th>4</th>\n",
       "      <td>c5JQp6xafqc</td>\n",
       "      <td>1681824</td>\n",
       "      <td>30585</td>\n",
       "      <td>713</td>\n",
       "      <td>0</td>\n",
       "      <td>6600</td>\n",
       "      <td>2021-10-10 16:00:03</td>\n",
       "      <td>공범 EP1</td>\n",
       "    </tr>\n",
       "  </tbody>\n",
       "</table>\n",
       "</div>"
      ],
      "text/plain": [
       "       videopk  viewcnt  likecnt  dislikecnt  favoritecnt  cmcnt  \\\n",
       "0  c5JQp6xafqc  1667010    30474         706            0   6587   \n",
       "1  c5JQp6xafqc  1669089    30495         707            0   6589   \n",
       "2  c5JQp6xafqc  1674759    30522         711            0   6596   \n",
       "3  c5JQp6xafqc  1677026    30555         712            0   6604   \n",
       "4  c5JQp6xafqc  1681824    30585         713            0   6600   \n",
       "\n",
       "                    ct videoname  \n",
       "0  2021-10-10 15:20:03    공범 EP1  \n",
       "1  2021-10-10 15:30:03    공범 EP1  \n",
       "2  2021-10-10 15:40:02    공범 EP1  \n",
       "3  2021-10-10 15:50:03    공범 EP1  \n",
       "4  2021-10-10 16:00:03    공범 EP1  "
      ]
     },
     "metadata": {},
     "output_type": "display_data"
    }
   ],
   "source": [
    "import pandas as pd\n",
    "\n",
    "\n",
    "channel =pd.read_csv('https://raw.githubusercontent.com/Datamanim/datarepo/main/youtube/channelInfo.csv')\n",
    "video =pd.read_csv('https://raw.githubusercontent.com/Datamanim/datarepo/main/youtube/videoInfo.csv')\n",
    "display(channel.head())\n",
    "display(video.head())\n",
    "\n"
   ]
  },
  {
   "cell_type": "markdown",
   "id": "3cc0b4d0",
   "metadata": {},
   "source": [
    "## Question 11\n",
    "### **각 데이터의 'ct'컬럼을 시간으로 인식할수 있게 datatype을 변경하고 video 데이터의 videoname의 각 value 마다 몇개의 데이터씩 가지고 있는지 확인하라**"
   ]
  },
  {
   "cell_type": "code",
   "execution_count": 81,
   "id": "7bcb43c3-be86-4175-b0b0-90d354d8994b",
   "metadata": {},
   "outputs": [],
   "source": [
    "channel['ct'] = channel.ct.astype('datetime64')\n",
    "video['ct'] = video.ct.astype('datetime64')"
   ]
  },
  {
   "cell_type": "code",
   "execution_count": 87,
   "id": "f951aefb-89ee-4ccd-9429-dc6ad1d929a6",
   "metadata": {},
   "outputs": [
    {
     "data": {
      "text/plain": [
       " 공범 EP1    3492\n",
       " 공범 EP2    3204\n",
       " 공범 EP3    2568\n",
       " 공범 EP4    2280\n",
       " 공범 EP5    1562\n",
       " 공범 EP6    1274\n",
       " 공범 EP7     555\n",
       " 공범 EP8     266\n",
       "Name: videoname, dtype: int64"
      ]
     },
     "execution_count": 87,
     "metadata": {},
     "output_type": "execute_result"
    }
   ],
   "source": [
    "video.videoname.value_counts()"
   ]
  },
  {
   "cell_type": "markdown",
   "id": "cf3f0a67",
   "metadata": {},
   "source": [
    "## Question 12\n",
    "### **수집된 각 video의 가장 최신화 된 날짜의 viewcount값을 출력하라**"
   ]
  },
  {
   "cell_type": "code",
   "execution_count": 91,
   "id": "9481e29b-cdda-4fae-8ec9-138be1fc3e47",
   "metadata": {},
   "outputs": [
    {
     "data": {
      "text/html": [
       "<div>\n",
       "<style scoped>\n",
       "    .dataframe tbody tr th:only-of-type {\n",
       "        vertical-align: middle;\n",
       "    }\n",
       "\n",
       "    .dataframe tbody tr th {\n",
       "        vertical-align: top;\n",
       "    }\n",
       "\n",
       "    .dataframe thead th {\n",
       "        text-align: right;\n",
       "    }\n",
       "</style>\n",
       "<table border=\"1\" class=\"dataframe\">\n",
       "  <thead>\n",
       "    <tr style=\"text-align: right;\">\n",
       "      <th></th>\n",
       "      <th>viewcnt</th>\n",
       "      <th>videoname</th>\n",
       "      <th>ct</th>\n",
       "    </tr>\n",
       "  </thead>\n",
       "  <tbody>\n",
       "    <tr>\n",
       "      <th>0</th>\n",
       "      <td>3180532</td>\n",
       "      <td>공범 EP1</td>\n",
       "      <td>2021-11-01 15:30:03</td>\n",
       "    </tr>\n",
       "    <tr>\n",
       "      <th>1</th>\n",
       "      <td>2199328</td>\n",
       "      <td>공범 EP2</td>\n",
       "      <td>2021-11-01 15:30:03</td>\n",
       "    </tr>\n",
       "    <tr>\n",
       "      <th>2</th>\n",
       "      <td>1671294</td>\n",
       "      <td>공범 EP3</td>\n",
       "      <td>2021-11-01 15:30:03</td>\n",
       "    </tr>\n",
       "    <tr>\n",
       "      <th>3</th>\n",
       "      <td>1818493</td>\n",
       "      <td>공범 EP4</td>\n",
       "      <td>2021-11-01 15:30:03</td>\n",
       "    </tr>\n",
       "    <tr>\n",
       "      <th>4</th>\n",
       "      <td>1503435</td>\n",
       "      <td>공범 EP5</td>\n",
       "      <td>2021-11-01 15:30:04</td>\n",
       "    </tr>\n",
       "    <tr>\n",
       "      <th>5</th>\n",
       "      <td>1750222</td>\n",
       "      <td>공범 EP6</td>\n",
       "      <td>2021-11-01 15:30:04</td>\n",
       "    </tr>\n",
       "    <tr>\n",
       "      <th>6</th>\n",
       "      <td>1630200</td>\n",
       "      <td>공범 EP7</td>\n",
       "      <td>2021-11-01 15:30:05</td>\n",
       "    </tr>\n",
       "    <tr>\n",
       "      <th>7</th>\n",
       "      <td>1289088</td>\n",
       "      <td>공범 EP8</td>\n",
       "      <td>2021-11-01 15:30:05</td>\n",
       "    </tr>\n",
       "  </tbody>\n",
       "</table>\n",
       "</div>"
      ],
      "text/plain": [
       "   viewcnt videoname                  ct\n",
       "0  3180532    공범 EP1 2021-11-01 15:30:03\n",
       "1  2199328    공범 EP2 2021-11-01 15:30:03\n",
       "2  1671294    공범 EP3 2021-11-01 15:30:03\n",
       "3  1818493    공범 EP4 2021-11-01 15:30:03\n",
       "4  1503435    공범 EP5 2021-11-01 15:30:04\n",
       "5  1750222    공범 EP6 2021-11-01 15:30:04\n",
       "6  1630200    공범 EP7 2021-11-01 15:30:05\n",
       "7  1289088    공범 EP8 2021-11-01 15:30:05"
      ]
     },
     "execution_count": 91,
     "metadata": {},
     "output_type": "execute_result"
    }
   ],
   "source": [
    "video.sort_values(['videoname','ct']).drop_duplicates('videoname', keep = 'last')[['viewcnt','videoname','ct']].reset_index(drop=True)"
   ]
  },
  {
   "cell_type": "markdown",
   "id": "59bc12e2",
   "metadata": {},
   "source": [
    "## Question 13\n",
    "### **Channel 데이터중 2021-10-03일 이후 각 채널의 처음 기록 됐던 구독자 수(subcnt)를 출력하라**"
   ]
  },
  {
   "cell_type": "code",
   "execution_count": 102,
   "id": "4b46b7bd-7c33-4181-911e-454ef0607502",
   "metadata": {},
   "outputs": [
    {
     "data": {
      "text/html": [
       "<div>\n",
       "<style scoped>\n",
       "    .dataframe tbody tr th:only-of-type {\n",
       "        vertical-align: middle;\n",
       "    }\n",
       "\n",
       "    .dataframe tbody tr th {\n",
       "        vertical-align: top;\n",
       "    }\n",
       "\n",
       "    .dataframe thead th {\n",
       "        text-align: right;\n",
       "    }\n",
       "</style>\n",
       "<table border=\"1\" class=\"dataframe\">\n",
       "  <thead>\n",
       "    <tr style=\"text-align: right;\">\n",
       "      <th></th>\n",
       "      <th>channelname</th>\n",
       "      <th>subcnt</th>\n",
       "    </tr>\n",
       "  </thead>\n",
       "  <tbody>\n",
       "    <tr>\n",
       "      <th>0</th>\n",
       "      <td>논리왕 전기</td>\n",
       "      <td>922000</td>\n",
       "    </tr>\n",
       "    <tr>\n",
       "      <th>1</th>\n",
       "      <td>야전삽짱재</td>\n",
       "      <td>257000</td>\n",
       "    </tr>\n",
       "    <tr>\n",
       "      <th>2</th>\n",
       "      <td>츄정ChuJeong</td>\n",
       "      <td>322000</td>\n",
       "    </tr>\n",
       "    <tr>\n",
       "      <th>3</th>\n",
       "      <td>김농밀의 농밀한 삶</td>\n",
       "      <td>7520</td>\n",
       "    </tr>\n",
       "    <tr>\n",
       "      <th>4</th>\n",
       "      <td>릴펄 Lilpearl</td>\n",
       "      <td>10100</td>\n",
       "    </tr>\n",
       "    <tr>\n",
       "      <th>5</th>\n",
       "      <td>와글와글 WagleWagle</td>\n",
       "      <td>55000</td>\n",
       "    </tr>\n",
       "    <tr>\n",
       "      <th>6</th>\n",
       "      <td>조나단</td>\n",
       "      <td>215000</td>\n",
       "    </tr>\n",
       "    <tr>\n",
       "      <th>7</th>\n",
       "      <td>형사!탐정되다</td>\n",
       "      <td>14900</td>\n",
       "    </tr>\n",
       "    <tr>\n",
       "      <th>8</th>\n",
       "      <td>Balming Tiger</td>\n",
       "      <td>54300</td>\n",
       "    </tr>\n",
       "    <tr>\n",
       "      <th>9</th>\n",
       "      <td>곽토리 kwak tori</td>\n",
       "      <td>471000</td>\n",
       "    </tr>\n",
       "    <tr>\n",
       "      <th>10</th>\n",
       "      <td>꽈뚜룹</td>\n",
       "      <td>1330000</td>\n",
       "    </tr>\n",
       "  </tbody>\n",
       "</table>\n",
       "</div>"
      ],
      "text/plain": [
       "        channelname   subcnt\n",
       "0            논리왕 전기   922000\n",
       "1             야전삽짱재   257000\n",
       "2        츄정ChuJeong   322000\n",
       "3        김농밀의 농밀한 삶     7520\n",
       "4       릴펄 Lilpearl    10100\n",
       "5   와글와글 WagleWagle    55000\n",
       "6               조나단   215000\n",
       "7           형사!탐정되다    14900\n",
       "8     Balming Tiger    54300\n",
       "9     곽토리 kwak tori   471000\n",
       "10              꽈뚜룹  1330000"
      ]
     },
     "execution_count": 102,
     "metadata": {},
     "output_type": "execute_result"
    }
   ],
   "source": [
    "channel.loc[channel.ct >= pd.to_datetime('2021-10-03')].sort_values(['ct', 'channelname']).drop_duplicates('channelname', keep = 'first')[['channelname','subcnt']].reset_index(drop = True)"
   ]
  },
  {
   "cell_type": "markdown",
   "id": "b74accc4",
   "metadata": {},
   "source": [
    "## Question 14\n",
    "### **각채널의 2021-10-03 03:00:00 ~ 2021-11-01 15:00:00 까지 구독자수 (subcnt) 의 증가량을 구하여라**"
   ]
  },
  {
   "cell_type": "code",
   "execution_count": 132,
   "id": "15567b6a-54c5-4a2c-be30-ac7c7a74a946",
   "metadata": {},
   "outputs": [
    {
     "name": "stdout",
     "output_type": "stream",
     "text": [
      "        channelname    del\n",
      "0            논리왕 전기 -11000\n",
      "1             야전삽짱재  11000\n",
      "2        츄정ChuJeong   1000\n",
      "3        김농밀의 농밀한 삶   1540\n",
      "4       릴펄 Lilpearl  11000\n",
      "5   와글와글 WagleWagle      0\n",
      "6               조나단  12000\n",
      "7           형사!탐정되다  10300\n",
      "8     Balming Tiger   2500\n",
      "9     곽토리 kwak tori  -2000\n",
      "10              꽈뚜룹  70000\n"
     ]
    }
   ],
   "source": [
    "start = channel.loc[channel.ct >= pd.to_datetime('2021-10-03 03')].sort_values(['ct','channelname']).drop_duplicates('channelname', keep = 'first')[['subcnt','channelname']].reset_index(drop=True)\n",
    "end = channel.loc[channel.ct <= pd.to_datetime('2021-11-01 15')].sort_values(['ct','channelname'],ascending = False).drop_duplicates('channelname', keep = 'first')[['subcnt','channelname']].reset_index(drop=True)\n",
    "start.columns = ['start_sub','channelname']\n",
    "end.columns = ['end_sub','channelname']\n",
    "answer = pd.merge(start,end)\n",
    "answer['del'] = answer['end_sub'] - answer['start_sub']\n",
    "print(answer[['channelname','del']])"
   ]
  },
  {
   "cell_type": "markdown",
   "id": "f740c961",
   "metadata": {},
   "source": [
    "## Question 15\n",
    "### **각 비디오는 10분 간격으로 구독자수, 좋아요, 싫어요수, 댓글수가 수집된것으로 알려졌다. 공범 EP1의 비디오정보 데이터중 수집간격이 5분 이하, 20분이상인 데이터 구간( 해당 시점 전,후) 의 시각을 모두 출력하라**"
   ]
  },
  {
   "cell_type": "code",
   "execution_count": 137,
   "id": "edfa1f6f-ff64-48a2-8e18-fed06a14b24b",
   "metadata": {},
   "outputs": [
    {
     "data": {
      "text/plain": [
       "0                   NaT\n",
       "1       0 days 00:10:00\n",
       "2       0 days 00:09:59\n",
       "3       0 days 00:10:01\n",
       "4       0 days 00:10:00\n",
       "              ...      \n",
       "15196   0 days 00:09:58\n",
       "15197   0 days 00:09:59\n",
       "15198   0 days 00:10:00\n",
       "15199   0 days 00:09:59\n",
       "15200   0 days 00:10:01\n",
       "Name: ct, Length: 15201, dtype: timedelta64[ns]"
      ]
     },
     "execution_count": 137,
     "metadata": {},
     "output_type": "execute_result"
    }
   ],
   "source": [
    "video.ct.diff()"
   ]
  },
  {
   "cell_type": "code",
   "execution_count": 171,
   "id": "83b3afaa-8451-4df7-adf9-608bec7c70b4",
   "metadata": {},
   "outputs": [
    {
     "data": {
      "text/html": [
       "<div>\n",
       "<style scoped>\n",
       "    .dataframe tbody tr th:only-of-type {\n",
       "        vertical-align: middle;\n",
       "    }\n",
       "\n",
       "    .dataframe tbody tr th {\n",
       "        vertical-align: top;\n",
       "    }\n",
       "\n",
       "    .dataframe thead th {\n",
       "        text-align: right;\n",
       "    }\n",
       "</style>\n",
       "<table border=\"1\" class=\"dataframe\">\n",
       "  <thead>\n",
       "    <tr style=\"text-align: right;\">\n",
       "      <th></th>\n",
       "      <th>videopk</th>\n",
       "      <th>viewcnt</th>\n",
       "      <th>likecnt</th>\n",
       "      <th>dislikecnt</th>\n",
       "      <th>favoritecnt</th>\n",
       "      <th>cmcnt</th>\n",
       "      <th>ct</th>\n",
       "      <th>videoname</th>\n",
       "    </tr>\n",
       "  </thead>\n",
       "  <tbody>\n",
       "    <tr>\n",
       "      <th>10</th>\n",
       "      <td>c5JQp6xafqc</td>\n",
       "      <td>6396</td>\n",
       "      <td>680</td>\n",
       "      <td>3</td>\n",
       "      <td>0</td>\n",
       "      <td>226</td>\n",
       "      <td>2021-10-07 19:10:03</td>\n",
       "      <td>공범 EP1</td>\n",
       "    </tr>\n",
       "    <tr>\n",
       "      <th>418</th>\n",
       "      <td>c5JQp6xafqc</td>\n",
       "      <td>1700233</td>\n",
       "      <td>30747</td>\n",
       "      <td>716</td>\n",
       "      <td>0</td>\n",
       "      <td>6632</td>\n",
       "      <td>2021-10-10 17:00:03</td>\n",
       "      <td>공범 EP1</td>\n",
       "    </tr>\n",
       "    <tr>\n",
       "      <th>721</th>\n",
       "      <td>c5JQp6xafqc</td>\n",
       "      <td>2228250</td>\n",
       "      <td>34559</td>\n",
       "      <td>849</td>\n",
       "      <td>0</td>\n",
       "      <td>7191</td>\n",
       "      <td>2021-10-13 09:41:37</td>\n",
       "      <td>공범 EP1</td>\n",
       "    </tr>\n",
       "    <tr>\n",
       "      <th>722</th>\n",
       "      <td>c5JQp6xafqc</td>\n",
       "      <td>2228250</td>\n",
       "      <td>34559</td>\n",
       "      <td>849</td>\n",
       "      <td>0</td>\n",
       "      <td>7191</td>\n",
       "      <td>2021-10-13 09:41:37</td>\n",
       "      <td>공범 EP1</td>\n",
       "    </tr>\n",
       "    <tr>\n",
       "      <th>1636</th>\n",
       "      <td>c5JQp6xafqc</td>\n",
       "      <td>2707933</td>\n",
       "      <td>37901</td>\n",
       "      <td>988</td>\n",
       "      <td>0</td>\n",
       "      <td>7410</td>\n",
       "      <td>2021-10-19 18:20:03</td>\n",
       "      <td>공범 EP1</td>\n",
       "    </tr>\n",
       "  </tbody>\n",
       "</table>\n",
       "</div>"
      ],
      "text/plain": [
       "          videopk  viewcnt  likecnt  dislikecnt  favoritecnt  cmcnt  \\\n",
       "10    c5JQp6xafqc     6396      680           3            0    226   \n",
       "418   c5JQp6xafqc  1700233    30747         716            0   6632   \n",
       "721   c5JQp6xafqc  2228250    34559         849            0   7191   \n",
       "722   c5JQp6xafqc  2228250    34559         849            0   7191   \n",
       "1636  c5JQp6xafqc  2707933    37901         988            0   7410   \n",
       "\n",
       "                      ct videoname  \n",
       "10   2021-10-07 19:10:03    공범 EP1  \n",
       "418  2021-10-10 17:00:03    공범 EP1  \n",
       "721  2021-10-13 09:41:37    공범 EP1  \n",
       "722  2021-10-13 09:41:37    공범 EP1  \n",
       "1636 2021-10-19 18:20:03    공범 EP1  "
      ]
     },
     "execution_count": 171,
     "metadata": {},
     "output_type": "execute_result"
    }
   ],
   "source": [
    "import datetime\n",
    "ep1 = video.loc[video.videoname.str.contains('1')]\n",
    "ep1 = ep1.loc[(ep1.ct.diff() >= datetime.timedelta(minutes = 20)) | (ep1.ct.diff() <= datetime.timedelta(minutes = 5))]\n",
    "ep1\n"
   ]
  },
  {
   "cell_type": "markdown",
   "id": "07d2032d",
   "metadata": {},
   "source": [
    "## Question 16\n",
    "### **각 에피소드의 시작날짜(년-월-일)를 에피소드 이름과 묶어 데이터 프레임으로 만들고 출력하라**"
   ]
  },
  {
   "cell_type": "markdown",
   "id": "be625554",
   "metadata": {},
   "source": [
    "## Question 17\n",
    "### **\"공범\" 컨텐츠의 경우 19:00시에 공개 되는것으로 알려져있다. 공개된 날의 21시의 viewcnt, ct, videoname 으로 구성된 데이터 프레임을 viewcnt를 내림차순으로 정렬하여 출력하라**"
   ]
  },
  {
   "cell_type": "markdown",
   "id": "5a4def14",
   "metadata": {},
   "source": [
    "## Question 18\n",
    "### **video 정보의 가장 최근 데이터들에서 각 에피소드의 싫어요/좋아요 비율을 ratio 컬럼으로 만들고 videoname, ratio로 구성된 데이터 프레임을 ratio를 오름차순으로 정렬하라**"
   ]
  },
  {
   "cell_type": "markdown",
   "id": "a01abc4e",
   "metadata": {},
   "source": [
    "## Question 19\n",
    "### **2021-11-01 00:00:00 ~ 15:00:00까지 각 에피소드별 viewcnt의 증가량을 데이터 프레임으로 만드시오**"
   ]
  },
  {
   "cell_type": "markdown",
   "id": "9bfb87c6",
   "metadata": {},
   "source": [
    "## Question 20\n",
    "### **video 데이터 중에서 중복되는 데이터가 존재한다. 중복되는 각 데이터의 시간대와  videoname 을 구하여라**"
   ]
  },
  {
   "cell_type": "markdown",
   "id": "ba942311",
   "metadata": {},
   "source": [
    "### 월드컵 출전선수 골기록 데이터"
   ]
  },
  {
   "cell_type": "markdown",
   "id": "29f65cbb",
   "metadata": {},
   "source": [
    "```{attention} \n",
    "데이터 출처 :https://www.kaggle.com/darinhawley/fifa-world-cup-goalscorers-19302018(참고, 데이터 수정)     \n",
    "데이터 설명 : 1930 ~2018년도 월드컵 출전선수 골기록     \n",
    "data url = https://raw.githubusercontent.com/Datamanim/datarepo/main/worldcup/worldcupgoals.csv      \n",
    "```"
   ]
  },
  {
   "cell_type": "code",
   "execution_count": null,
   "id": "4fba0f3a",
   "metadata": {},
   "outputs": [],
   "source": [
    "import pandas as pd\n",
    "\n",
    "df= pd.read_csv('https://raw.githubusercontent.com/Datamanim/datarepo/main/worldcup/worldcupgoals.csv')\n",
    "df.head()"
   ]
  },
  {
   "cell_type": "markdown",
   "id": "0ef2b1a2",
   "metadata": {},
   "source": [
    "## Question 21\n",
    "### **주어진 전체 기간의 각 나라별 골득점수 상위 5개 국가와 그 득점수를 데이터프레임형태로 출력하라**"
   ]
  },
  {
   "cell_type": "markdown",
   "id": "9d3ebc42",
   "metadata": {},
   "source": [
    "## Question 22\n",
    "### **주어진 전체기간동안 골득점을 한 선수가 가장 많은 나라 상위 5개 국가와 그 선수 숫자를 데이터 프레임 형식으로 출력하라**"
   ]
  },
  {
   "cell_type": "markdown",
   "id": "6c201e90",
   "metadata": {},
   "source": [
    "## Question 23\n",
    "### **주어진 전체기간동안 골득점을 한 선수가 가장 많은 나라 상위 5개 국가와 그 선수 숫자를 데이터 프레임 형식으로 출력하라**"
   ]
  },
  {
   "cell_type": "markdown",
   "id": "ee5cc806",
   "metadata": {},
   "source": [
    "## Question 24\n",
    "### Q3에서 발생한 예외 케이스를 제외한 데이터프레임을  df2라고 정의하고 데이터의 행의 숫자를 출력하라 \n",
    "(아래 문제부터는 df2로 풀이하겠습니다) "
   ]
  },
  {
   "cell_type": "markdown",
   "id": "72b9240d",
   "metadata": {},
   "source": [
    "## Question 25\n",
    "### **월드컵 출전횟수를 나타내는 'LenCup' 컬럼을 추가하고 4회 출전한 선수의 숫자를 구하여라**"
   ]
  },
  {
   "cell_type": "markdown",
   "id": "8ae5c6be",
   "metadata": {},
   "source": [
    "## Question 26\n",
    "### **Yugoslavia 국가의 월드컵 출전횟수가 2회인 선수들의 숫자를 구하여라**"
   ]
  },
  {
   "cell_type": "markdown",
   "id": "fa46abd9",
   "metadata": {},
   "source": [
    "## Question 27\n",
    "### **2002년도에 출전한 전체 선수는 몇명인가?**"
   ]
  },
  {
   "cell_type": "markdown",
   "id": "8cde2978",
   "metadata": {},
   "source": [
    "## Question 28\n",
    "### **이름에 'carlos' 단어가 들어가는 선수의 숫자는 몇 명인가? (대, 소문자 구분 x)**"
   ]
  },
  {
   "cell_type": "markdown",
   "id": "492a9903",
   "metadata": {},
   "source": [
    "## Question 29\n",
    "### **월드컵 출전 횟수가 1회뿐인 선수들 중에서 가장 많은 득점을 올렸던 선수는 누구인가?**"
   ]
  },
  {
   "cell_type": "markdown",
   "id": "92f0b4d7",
   "metadata": {},
   "source": [
    "## Question 30\n",
    "### **월드컵 출전횟수가 1회 뿐인 선수들이 가장 많은 국가는 어디인가?**"
   ]
  },
  {
   "cell_type": "markdown",
   "id": "9e7bd509",
   "metadata": {},
   "source": [
    "### 서울시 따릉이 이용정보 데이터"
   ]
  },
  {
   "cell_type": "markdown",
   "id": "7061bd2c",
   "metadata": {},
   "source": [
    "```{attention} \n",
    "데이터 출처 :https://www.data.go.kr/data/15051872/fileData.do(참고, 데이터 수정)     \n",
    "데이터 설명 : 서울특별시_공공자전거 시간대별 이용정보    \n",
    "data url = https://raw.githubusercontent.com/Datamanim/datarepo/main/bicycle/seoul_bi.csv     \n",
    "```"
   ]
  },
  {
   "cell_type": "code",
   "execution_count": null,
   "id": "663bf7e4",
   "metadata": {
    "ExecuteTime": {
     "end_time": "2022-01-31T04:57:11.369691Z",
     "start_time": "2022-01-31T04:56:57.430625Z"
    }
   },
   "outputs": [],
   "source": [
    "import pandas as pd\n",
    "df =pd.read_csv('https://raw.githubusercontent.com/Datamanim/datarepo/main/bicycle/seoul_bi.csv')\n",
    "df.head()"
   ]
  },
  {
   "cell_type": "markdown",
   "id": "573dba43",
   "metadata": {},
   "source": [
    "## Question 31\n",
    "### **대여일자별 데이터의 수를 데이터프레임으로 출력하고, 가장 많은 데이터가 있는 날짜를 출력하라**"
   ]
  },
  {
   "cell_type": "markdown",
   "id": "b7487f00",
   "metadata": {},
   "source": [
    "## Question 32\n",
    "### **각 일자의 요일을 표기하고 ('Monday' ~'Sunday') 'day_name'컬럼을 추가하고 이를 이용하여 각 요일별 이용 횟수의 총합을 데이터 프레임으로 출력하라**"
   ]
  },
  {
   "cell_type": "markdown",
   "id": "a09f29ed",
   "metadata": {},
   "source": [
    "## Question 33\n",
    "### **각 요일별 가장 많이 이용한 대여소의 이용횟수와 대여소 번호를 데이터 프레임으로 출력하라**"
   ]
  },
  {
   "cell_type": "markdown",
   "id": "bbd8371d",
   "metadata": {},
   "source": [
    "## Question 34\n",
    "### **나이대별 대여구분 코드의 (일일권/전체횟수) 비율을 구한 후 가장 높은 비율을 가지는 나이대를 확인하라. 일일권의 경우 일일권 과 일일권(비회원)을 모두 포함하라**"
   ]
  },
  {
   "cell_type": "markdown",
   "id": "8c95eda8",
   "metadata": {},
   "source": [
    "## Question 35\n",
    "### **연령대별 평균 이동거리를 구하여라**"
   ]
  },
  {
   "cell_type": "markdown",
   "id": "8b93260d",
   "metadata": {},
   "source": [
    "## Question 36\n",
    "### **연령대 코드가 20대인 데이터를 추출하고,이동거리값이 추출한 데이터의 이동거리값의 평균 이상인 데이터를 추출한다.최종 추출된 데이터를 대여일자, 대여소 번호 순서로 내림차순 정렬 후 1행부터 200행까지의 탄소량의 평균을 소숫점 3째 자리까지 구하여라**"
   ]
  },
  {
   "cell_type": "markdown",
   "id": "1b12961e",
   "metadata": {},
   "source": [
    "## Question 37\n",
    "### **6월 7일 ~10대의 \"이용건수\"의 중앙값은?**"
   ]
  },
  {
   "cell_type": "markdown",
   "id": "236afc18",
   "metadata": {},
   "source": [
    "## Question 38\n",
    "### **평일 (월~금) 출근 시간대(오전 6,7,8시)의 대여소별 이용 횟수를 구해서 데이터 프레임 형태로 표현한 후 각 대여시간별 이용 횟수의 상위 3개 대여소와 이용횟수를 출력하라**"
   ]
  },
  {
   "cell_type": "markdown",
   "id": "23654db1",
   "metadata": {},
   "source": [
    "## Question 39\n",
    "### **이동거리의 평균 이상의 이동거리 값을 가지는 데이터를 추출하여 추출데이터의 이동거리의 표본표준편차 값을 구하여라**"
   ]
  },
  {
   "cell_type": "markdown",
   "id": "88cdf517",
   "metadata": {},
   "source": [
    "## Question 40\n",
    "### **남성('M' or 'm')과 여성('F' or 'f')의 이동거리값의 평균값을 구하여라**"
   ]
  },
  {
   "cell_type": "markdown",
   "id": "88b656ed",
   "metadata": {},
   "source": [
    "### 전세계 행복도 지표 데이터"
   ]
  },
  {
   "cell_type": "markdown",
   "id": "aad5d519",
   "metadata": {},
   "source": [
    "```{attention} \n",
    "데이터 출처 :https://www.kaggle.com/unsdsn/world-happiness(참고, 데이터 수정)     \n",
    "데이터 설명 : 전세계 행복도 지표 조사     \n",
    "data url = https://raw.githubusercontent.com/Datamanim/datarepo/main/happy2/happiness.csv       \n",
    "```"
   ]
  },
  {
   "cell_type": "code",
   "execution_count": null,
   "id": "fe44ab46",
   "metadata": {
    "ExecuteTime": {
     "end_time": "2022-01-31T05:01:19.591280Z",
     "start_time": "2022-01-31T05:01:18.364124Z"
    }
   },
   "outputs": [],
   "source": [
    "import pandas as pd\n",
    "df =pd.read_csv('https://raw.githubusercontent.com/Datamanim/datarepo/main/happy2/happiness.csv',encoding='utf-8')\n",
    "df.head()"
   ]
  },
  {
   "cell_type": "markdown",
   "id": "5ee92388",
   "metadata": {},
   "source": [
    "## Question 41\n",
    "### **데이터는 2018년도와 2019년도의 전세계 행복 지수를 표현한다. 각년도의 행복랭킹 10위를 차지한 나라의 행복점수의 평균을 구하여라**"
   ]
  },
  {
   "cell_type": "markdown",
   "id": "b1c63f1a",
   "metadata": {},
   "source": [
    "## Question 42\n",
    "### **데이터는 2018년도와 2019년도의 전세계 행복 지수를 표현한다. 각년도의 행복랭킹 50위이내의 나라들의 각각의 행복점수 평균을 데이터프레임으로 표시하라**"
   ]
  },
  {
   "cell_type": "markdown",
   "id": "626c7546",
   "metadata": {},
   "source": [
    "## Question 43\n",
    "### **2018년도 데이터들만 추출하여 행복점수와 부패에 대한 인식에 대한 상관계수를 구하여라**"
   ]
  },
  {
   "cell_type": "markdown",
   "id": "794f333a",
   "metadata": {},
   "source": [
    "## Question 44\n",
    "### **2018년도와 2019년도의 행복랭킹이 변화하지 않은 나라명의 수를 구하여라**"
   ]
  },
  {
   "cell_type": "markdown",
   "id": "2e95aa22",
   "metadata": {},
   "source": [
    "## Question 45\n",
    "### **2019년도 데이터들만 추출하여 각변수간 상관계수를 구하고 내림차순으로 정렬한 후 상위 5개를 데이터 프레임으로 출력하라. 컬럼명은 v1,v2,corr으로 표시하라**"
   ]
  },
  {
   "cell_type": "markdown",
   "id": "a16d9884",
   "metadata": {},
   "source": [
    "## Question 46\n",
    "### **각 년도별 하위 행복점수의 하위 5개 국가의 평균 행복점수를 구하여라**"
   ]
  },
  {
   "cell_type": "markdown",
   "id": "37c04871",
   "metadata": {},
   "source": [
    "## Question 47\n",
    "### **2019년 데이터를 추출하고 해당데이터의 상대 GDP 평균 이상의 나라들과 평균 이하의 나라들의 행복점수 평균을 각각 구하고 그 차이값을 출력하라**"
   ]
  },
  {
   "cell_type": "markdown",
   "id": "5db2b089",
   "metadata": {},
   "source": [
    "## Question 48\n",
    "### **각년도의 부패에 대한인식을 내림차순 정렬했을때 상위 20개 국가의 부패에 대한인식의 평균을 구하여라**"
   ]
  },
  {
   "cell_type": "markdown",
   "id": "b5b1d435",
   "metadata": {},
   "source": [
    "## Question 49\n",
    "### **2018년도 행복랭킹 50위 이내에 포함됐다가 2019년 50위 밖으로 밀려난 국가의 숫자를 구하여라**"
   ]
  },
  {
   "cell_type": "markdown",
   "id": "f8b937c1",
   "metadata": {},
   "source": [
    "## Question 50\n",
    "### **2018년,2019년 모두 기록이 있는 나라들 중 년도별 행복점수가 가장 증가한 나라와 그 증가 수치는?**"
   ]
  },
  {
   "cell_type": "markdown",
   "id": "fe53df9c",
   "metadata": {},
   "source": [
    "### 지역구 에너지 소비량 데이터"
   ]
  },
  {
   "cell_type": "markdown",
   "id": "b2463030",
   "metadata": {},
   "source": [
    "```{attention} \n",
    "데이터 출처 :       https://archive.ics.uci.edu/ml/datasets/Power+consumption+of+Tetouan+city (참고, 데이터 수정)     \n",
    "데이터 설명 :  기온, 습도,바람풍속에 따른 도시의 3개 지역구의 에너지 소비량     \n",
    "data url = https://raw.githubusercontent.com/Datamanim/datarepo/main/consum/Tetuan%20City%20power%20consumption.csv     \n",
    "```"
   ]
  },
  {
   "cell_type": "code",
   "execution_count": null,
   "id": "d1badf31",
   "metadata": {
    "ExecuteTime": {
     "end_time": "2022-01-31T05:21:31.547443Z",
     "start_time": "2022-01-31T05:21:29.103079Z"
    }
   },
   "outputs": [],
   "source": [
    "import pandas as pd\n",
    "df= pd.read_csv('https://raw.githubusercontent.com/Datamanim/datarepo/main/consum/Tetuan%20City%20power%20consumption.csv')\n",
    "df.head()"
   ]
  },
  {
   "cell_type": "markdown",
   "id": "9fcdb60a",
   "metadata": {},
   "source": [
    "## Question 51\n",
    "### **DateTime컬럼을 통해 각 월별로 몇개의 데이터가 있는지 데이터 프레임으로 구하여라**"
   ]
  },
  {
   "cell_type": "markdown",
   "id": "7cffb131",
   "metadata": {},
   "source": [
    "## Question 52\n",
    "### **3월달의 각 시간대별 온도의 평균들 중 가장 낮은 시간대의 온도를 출력하라**"
   ]
  },
  {
   "cell_type": "markdown",
   "id": "c48f4dee",
   "metadata": {},
   "source": [
    "## Question 53\n",
    "### **3월달의 각 시간대별 온도의 평균들 중 가장 높은 시간대의 온도를 출력하라**"
   ]
  },
  {
   "cell_type": "markdown",
   "id": "774f7fd4",
   "metadata": {},
   "source": [
    "## Question 54\n",
    "### **Zone 1 Power Consumption 컬럼의 value값의 크기가 Zone 2  Power Consumption 컬럼의 value값의 크기보다 큰 데이터들의 Humidity의 평균을 구하여라**"
   ]
  },
  {
   "cell_type": "markdown",
   "id": "22d7f588",
   "metadata": {},
   "source": [
    "## Question 55\n",
    "### **각 zone의 에너지 소비량의 상관관계를 구해서 데이터 프레임으로 표기하라**"
   ]
  },
  {
   "cell_type": "markdown",
   "id": "1c84e2aa",
   "metadata": {},
   "source": [
    "## Question 56\n",
    "### **Temperature의 값이 10미만의 경우 A, 10이상 20미만의 경우 B,20이상 30미만의 경우 C, 그 외의 경우 D라고 할때 각 단계의 데이터 숫자를 구하여라**"
   ]
  },
  {
   "cell_type": "markdown",
   "id": "b559e4cd",
   "metadata": {},
   "source": [
    "## Question 57\n",
    "### **6월 데이터중 12시의 Temperature의 표준편차를 구하여라**"
   ]
  },
  {
   "cell_type": "markdown",
   "id": "7627ecca",
   "metadata": {},
   "source": [
    "## Question 58\n",
    "### **6월 데이터중 12시의 Temperature의 분산을 구하여라**"
   ]
  },
  {
   "cell_type": "markdown",
   "id": "0238eae3",
   "metadata": {},
   "source": [
    "## Question 59\n",
    "### **Temperature의 평균이상의 Temperature의 값을 가지는 데이터를 Temperature를 기준으로 정렬 했을때 4번째 행의 Humidity 값은?**"
   ]
  },
  {
   "cell_type": "markdown",
   "id": "6227ff17",
   "metadata": {},
   "source": [
    "## Question 60\n",
    "### Temperature의 중간값 이상의 Temperature의 값을 가지는 데이터를Temperature를 기준으로 정렬 했을때 4번째 행의 Humidity 값은?"
   ]
  },
  {
   "cell_type": "markdown",
   "id": "ef221055",
   "metadata": {},
   "source": [
    "### 포켓몬 정보 데이터"
   ]
  },
  {
   "cell_type": "markdown",
   "id": "5e63c2e0",
   "metadata": {},
   "source": [
    "```{attention} \n",
    "데이터 출처 :   https://www.kaggle.com/abcsds/pokemon   (참고, 데이터 수정)    \n",
    "데이터 설명 :  포켓몬 정보    \n",
    "data url = https://raw.githubusercontent.com/Datamanim/datarepo/main/pok/Pokemon.csv \n",
    "```"
   ]
  },
  {
   "cell_type": "code",
   "execution_count": null,
   "id": "a2ac34a8",
   "metadata": {
    "ExecuteTime": {
     "end_time": "2022-01-31T05:24:47.391412Z",
     "start_time": "2022-01-31T05:24:46.672892Z"
    }
   },
   "outputs": [],
   "source": [
    "import pandas as pd\n",
    "df = pd.read_csv('https://raw.githubusercontent.com/Datamanim/datarepo/main/pok/Pokemon.csv')\n",
    "df.head()"
   ]
  },
  {
   "cell_type": "markdown",
   "id": "4614474d",
   "metadata": {},
   "source": [
    "## Question 61\n",
    "### **Legendary 컬럼은 전설포켓몬 유무를 나타낸다.전설포켓몬과 그렇지 않은 포켓몬들의 HP평균의 차이를 구하여라**"
   ]
  },
  {
   "cell_type": "markdown",
   "id": "c1a087c5",
   "metadata": {},
   "source": [
    "## Question 62\n",
    "### **Type 1은 주속성 Type 2 는 부속성을 나타낸다. 가장 많은 부속성 종류는 무엇인가?**"
   ]
  },
  {
   "cell_type": "markdown",
   "id": "04c2acc3",
   "metadata": {},
   "source": [
    "## Question 63\n",
    "### **가장 많은 Type 1 의 종의 평균 Attack 을 평균 Defense로 나눈값은?**"
   ]
  },
  {
   "cell_type": "markdown",
   "id": "8a685f16",
   "metadata": {},
   "source": [
    "## Question 64\n",
    "### **포켓몬 세대(Generation) 중 가장많은 Legendary를 보유한 세대는 몇세대인가?**"
   ]
  },
  {
   "cell_type": "markdown",
   "id": "3660a50f",
   "metadata": {},
   "source": [
    "## Question 65\n",
    "### **'HP', 'Attack', 'Defense', 'Sp. Atk', 'Sp. Def', 'Speed' 간의 상관 계수중 가장 절댓값이 큰 두 변수와 그 값을 구하여라**"
   ]
  },
  {
   "cell_type": "markdown",
   "id": "df698c98",
   "metadata": {},
   "source": [
    "## Question 66\n",
    "### **각 Generation의 Attack으로 오름차순 정렬시 상위 3개 데이터들(18개)의 Attack의 전체 평균을 구하여라**"
   ]
  },
  {
   "cell_type": "markdown",
   "id": "eeca00af",
   "metadata": {},
   "source": [
    "## Question 67\n",
    "### **각 Generation의 Attack으로 내림차순 정렬시 상위 5개 데이터들(30개)의 Attack의 전체 평균을 구하여라**"
   ]
  },
  {
   "cell_type": "markdown",
   "id": "da944549",
   "metadata": {},
   "source": [
    "## Question 68\n",
    "### **가장 흔하게 발견되는 (Type1 , Type2) 의 쌍은 무엇인가?**"
   ]
  },
  {
   "cell_type": "markdown",
   "id": "d9a285b9",
   "metadata": {},
   "source": [
    "## Question 69\n",
    "### **한번씩만 존재하는 (Type1 , Type2)의 쌍의 갯수는 몇개인가?**"
   ]
  },
  {
   "cell_type": "markdown",
   "id": "41a44b38",
   "metadata": {},
   "source": [
    "## Question 70\n",
    "### **한번씩만 존재하는 (Type1 , Type2)의 쌍을 각 세대(Generation)은 각각 몇개씩 가지고 있는가?**"
   ]
  },
  {
   "cell_type": "markdown",
   "id": "4d723298",
   "metadata": {},
   "source": [
    "### 대한민국 체력장 데이터"
   ]
  },
  {
   "cell_type": "markdown",
   "id": "3818e976",
   "metadata": {},
   "source": [
    "```{attention} \n",
    "데이터 출처 :   국민체육진흥공단 (문화 빅데이터플랫폼)   (참고, 데이터 수정)     \n",
    "데이터 설명 : 대한민국 국민 체력장 평가     \n",
    "data url = https://raw.githubusercontent.com/Datamanim/datarepo/main/body/body.csv     \n",
    "```"
   ]
  },
  {
   "cell_type": "code",
   "execution_count": null,
   "id": "b88eca8f",
   "metadata": {
    "ExecuteTime": {
     "end_time": "2022-01-31T05:27:24.235676Z",
     "start_time": "2022-01-31T05:27:23.313269Z"
    }
   },
   "outputs": [],
   "source": [
    "import pandas as pd\n",
    "df =pd.read_csv('https://raw.githubusercontent.com/Datamanim/datarepo/main/body/body.csv')\n",
    "df.head()"
   ]
  },
  {
   "cell_type": "markdown",
   "id": "352d6398",
   "metadata": {},
   "source": [
    "## Question 71\n",
    "### **전체데이터의 수축기혈압(최고) - 이완기혈압(최저)의 평균을 구하여라**"
   ]
  },
  {
   "cell_type": "markdown",
   "id": "fef81da8",
   "metadata": {},
   "source": [
    "## Question 72\n",
    "### **50~59세의 신장평균을 구하여라**"
   ]
  },
  {
   "cell_type": "markdown",
   "id": "7faebe79",
   "metadata": {},
   "source": [
    "## Question 73\n",
    "### **연령대 (20~29 : 20대 ...) 별  인원수를 구하여라**"
   ]
  },
  {
   "cell_type": "markdown",
   "id": "4e2a0c97",
   "metadata": {},
   "source": [
    "## Question 74\n",
    "### **연령대 (20~29 : 20대 ...) 별 등급의 숫자를 데이터 프레임으로 표현하라**"
   ]
  },
  {
   "cell_type": "markdown",
   "id": "3b11929c",
   "metadata": {},
   "source": [
    "## Question 75\n",
    "### **남성 중 A등급과 D등급의 체지방률 평균의 차이(큰 값에서 작은 값의 차)를 구하여라**"
   ]
  },
  {
   "cell_type": "markdown",
   "id": "2b433a9d",
   "metadata": {},
   "source": [
    "## Question 76\n",
    "### **여성 중 A등급과 D등급의 체중의 평균의 차이(큰 값에서 작은 값의 차)를 구하여라**"
   ]
  },
  {
   "cell_type": "markdown",
   "id": "7f182864",
   "metadata": {},
   "source": [
    "## Question 77\n",
    "### **bmi는 자신의 몸무게(kg)를 키의 제곱(m)으로 나눈값이다. 데이터의 bmi 를 구한 새로운 컬럼을 만들고 남성의 bmi 평균을 구하여라**"
   ]
  },
  {
   "cell_type": "markdown",
   "id": "db2b1e2a",
   "metadata": {},
   "source": [
    "## Question 78\n",
    "### **bmi보다 체지방율이 높은 사람들의 체중평균을 구하여라**"
   ]
  },
  {
   "cell_type": "markdown",
   "id": "2ddb0844",
   "metadata": {},
   "source": [
    "## Question 79\n",
    "### **남성과 여성의 악력 평균의 차이를 구하여라**"
   ]
  },
  {
   "cell_type": "markdown",
   "id": "607fd825",
   "metadata": {},
   "source": [
    "## Question 80\n",
    "### **남성과 여성의 교차윗몸일으키기 횟수의 평균의 차이를 구하여라**"
   ]
  },
  {
   "cell_type": "markdown",
   "id": "43b0c3e8",
   "metadata": {},
   "source": [
    "### 기온 강수량 데이터"
   ]
  },
  {
   "cell_type": "markdown",
   "id": "8f26b863",
   "metadata": {},
   "source": [
    "```{attention} \n",
    "데이터 출처 : https://data.kma.go.kr/cmmn/static/staticPage.do?page=intro    \n",
    "데이터 설명 : 2020년도 이화동(서울) , 수영동(부산)의 시간단위의 기온과 강수량    \n",
    "데이터 url : https://raw.githubusercontent.com/Datamanim/datarepo/main/weather/weather2.csv    \n",
    "```"
   ]
  },
  {
   "cell_type": "code",
   "execution_count": null,
   "id": "2cd88a4e",
   "metadata": {
    "ExecuteTime": {
     "end_time": "2022-01-30T07:22:43.700960Z",
     "start_time": "2022-01-30T07:22:42.746044Z"
    }
   },
   "outputs": [],
   "source": [
    "import pandas as pd\n",
    "df = pd.read_csv(\"https://raw.githubusercontent.com/Datamanim/datarepo/main/weather/weather2.csv\")\n",
    "df.head()"
   ]
  },
  {
   "cell_type": "markdown",
   "id": "622b2459",
   "metadata": {},
   "source": [
    "## Question 81\n",
    "### **여름철(6월,7월,8월) 이화동이 수영동보다 높은 기온을 가진 시간대는 몇개인가?**"
   ]
  },
  {
   "cell_type": "markdown",
   "id": "626227f6",
   "metadata": {},
   "source": [
    "## Question 82\n",
    "### **이화동과 수영동의 최대강수량의 시간대를 각각 구하여라**"
   ]
  },
  {
   "cell_type": "markdown",
   "id": "58c5b93f",
   "metadata": {},
   "source": [
    "### 서비스 이탈예측 데이터"
   ]
  },
  {
   "cell_type": "markdown",
   "id": "c3c056a8",
   "metadata": {},
   "source": [
    "```{attention} \n",
    "데이터 출처 : https://www.kaggle.com/shubh0799/churn-modelling 에서 변형    \n",
    "데이터 설명 :  고객의 신상정보 데이터를 통한 회사 서비스 이탈 예측 (종속변수 : Exited)     \n",
    "Data url : https://raw.githubusercontent.com/Datamanim/datarepo/main/churn/train.csv     \n",
    "```  "
   ]
  },
  {
   "cell_type": "code",
   "execution_count": null,
   "id": "12b7aca2",
   "metadata": {
    "ExecuteTime": {
     "end_time": "2022-01-30T07:25:40.336091Z",
     "start_time": "2022-01-30T07:25:39.041498Z"
    }
   },
   "outputs": [],
   "source": [
    "import pandas as pd\n",
    "#데이터 로드\n",
    "df = pd.read_csv(\"https://raw.githubusercontent.com/Datamanim/datarepo/main/churn/train.csv\")\n",
    "df.head()"
   ]
  },
  {
   "cell_type": "markdown",
   "id": "9e6235d1",
   "metadata": {},
   "source": [
    "## Question 83\n",
    "### **남성 이탈(Exited)이 가장 많은 국가(Geography)는 어디이고 이탈 인원은 몇명인가?**"
   ]
  },
  {
   "cell_type": "markdown",
   "id": "785e0b0b",
   "metadata": {},
   "source": [
    "## Question 84\n",
    "### **카드를 소유(HasCrCard ==1)하고 있으면서 활성멤버(IsActiveMember ==1) 인 고객들의 평균 나이를 소숫점이하 4자리까지 구하여라? **"
   ]
  },
  {
   "cell_type": "markdown",
   "id": "bac8e8d6",
   "metadata": {},
   "source": [
    "## Question 85\n",
    "### **Balance 값이 중간값 이상을 가지는 고객들의 CreditScore의 표준편차를 소숫점이하 3자리까지 구하여라**"
   ]
  },
  {
   "cell_type": "markdown",
   "id": "38c39f93",
   "metadata": {},
   "source": [
    "### 성인 건강검진 데이터"
   ]
  },
  {
   "cell_type": "markdown",
   "id": "2f11700d",
   "metadata": {},
   "source": [
    "```{attention} \n",
    "데이터 출처 :https://www.data.go.kr/data/15007122/fileData.do (참고, 데이터 수정)    \n",
    "데이터 설명 : 2018년도 성인의 건강검 진데이터 (흡연상태 1- 흡연, 0-비흡연 )    \n",
    "데이터 url : https://raw.githubusercontent.com/Datamanim/datarepo/main/smoke/train.csv     \n",
    "```  "
   ]
  },
  {
   "cell_type": "code",
   "execution_count": null,
   "id": "c73896c5",
   "metadata": {
    "ExecuteTime": {
     "end_time": "2022-01-30T07:39:35.451680Z",
     "start_time": "2022-01-30T07:39:34.165454Z"
    }
   },
   "outputs": [],
   "source": [
    "import pandas as pd\n",
    "df = pd.read_csv(\"https://raw.githubusercontent.com/Datamanim/datarepo/main/smoke/train.csv\")\n",
    "df.head()"
   ]
  },
  {
   "cell_type": "markdown",
   "id": "b04306af",
   "metadata": {},
   "source": [
    "## Question 86\n",
    "### **수축기혈압과 이완기 혈압기 수치의 차이를 새로운 컬럼('혈압차') 으로 생성하고, 연령대 코드별 각 그룹 중 '혈압차' 의 분산이 5번째로 큰 연령대 코드를 구하여라**"
   ]
  },
  {
   "cell_type": "markdown",
   "id": "f48abb45",
   "metadata": {},
   "source": [
    "## Question 87\n",
    "### **비만도를 나타내는 지표인 WHtR는 허리둘레 / 키로 표현한다. 일반적으로 0.58이상이면 비만으로 분류한다. 데이터중 WHtR 지표상 비만인 인원의 남/여 비율을 구하여라**"
   ]
  },
  {
   "cell_type": "markdown",
   "id": "5eff1c0d",
   "metadata": {},
   "source": [
    "### 자동차 보험가입 예측데이터"
   ]
  },
  {
   "cell_type": "markdown",
   "id": "a8f86647",
   "metadata": {},
   "source": [
    "```{attention} \n",
    "데이터 출처 :https://www.kaggle.com/anmolkumar/health-insurance-cross-sell-prediction(참고, 데이터 수정)    \n",
    "데이터 설명 : 자동차 보험 가입 예측    \n",
    "Data url : https://raw.githubusercontent.com/Datamanim/datarepo/main/insurance/train.csv       \n",
    "```  "
   ]
  },
  {
   "cell_type": "code",
   "execution_count": null,
   "id": "bf881cda",
   "metadata": {
    "ExecuteTime": {
     "end_time": "2022-01-30T07:41:39.931308Z",
     "start_time": "2022-01-30T07:41:36.590486Z"
    }
   },
   "outputs": [],
   "source": [
    "import pandas as pd\n",
    "df = pd.read_csv(\"https://raw.githubusercontent.com/Datamanim/datarepo/main/insurance/train.csv\")\n",
    "df.head()"
   ]
  },
  {
   "cell_type": "markdown",
   "id": "b30e39a7",
   "metadata": {},
   "source": [
    "## Question 88\n",
    "### **Vehicle_Age 값이 2년 이상인 사람들만 필터링 하고 그중에서  Annual_Premium 값이 전체 데이터의 중간값 이상인 사람들을 찾고, 그들의 Vintage값의 평균을 구하여라**"
   ]
  },
  {
   "cell_type": "markdown",
   "id": "7af27c81",
   "metadata": {},
   "source": [
    "## Question 89\n",
    "### **vehicle_age에 따른 각 성별(gender)그룹의 Annual_Premium값의 평균을 구하여 아래 테이블과 동일하게 구현하라**"
   ]
  },
  {
   "cell_type": "markdown",
   "id": "5794e968",
   "metadata": {},
   "source": [
    "### 핸드폰 가격 예측데이터"
   ]
  },
  {
   "cell_type": "markdown",
   "id": "200ac160",
   "metadata": {},
   "source": [
    "```{attention} \n",
    "데이터 출처 :https://www.kaggle.com/iabhishekofficial/mobile-price-classification?select=train.csv(참고, 데이터 수정)    \n",
    "데이터 설명 : 핸드폰 가격예측 (price_range컬럼 0(저렴) ~3(매우비쌈) 범위 )         \n",
    "Data url https://raw.githubusercontent.com/Datamanim/datarepo/main/mobile/train.csv      \n",
    "```  "
   ]
  },
  {
   "cell_type": "code",
   "execution_count": null,
   "id": "a88c9c18",
   "metadata": {
    "ExecuteTime": {
     "end_time": "2022-01-31T05:42:40.390445Z",
     "start_time": "2022-01-31T05:42:39.726261Z"
    }
   },
   "outputs": [],
   "source": [
    "import pandas as pd\n",
    "df = pd.read_csv(\"https://raw.githubusercontent.com/Datamanim/datarepo/main/mobile/train.csv\")\n",
    "df.head()"
   ]
  },
  {
   "cell_type": "markdown",
   "id": "c635f139",
   "metadata": {},
   "source": [
    "## Question 90\n",
    "### **price_range 의 각 value를 그룹핑하여 각 그룹의 n_cores 의 빈도가 가장높은 value와 그 빈도수를 구하여라**"
   ]
  },
  {
   "cell_type": "markdown",
   "id": "e1e36bd6",
   "metadata": {},
   "source": [
    "## Question 91\n",
    "### **price_range 값이 3인 그룹에서 상관관계가 2번째로 높은 두 컬럼과 그 상관계수를 구하여라**"
   ]
  },
  {
   "cell_type": "markdown",
   "id": "ef5b610b",
   "metadata": {},
   "source": [
    "### 비행탑승 경험 만족도 데이터"
   ]
  },
  {
   "cell_type": "markdown",
   "id": "a15868d8",
   "metadata": {},
   "source": [
    "```{attention} \n",
    "데이터 출처 :https://www.kaggle.com/teejmahal20/airline-passenger-satisfaction?select=train.csv (참고, 데이터 수정)     \n",
    "데이터 설명 : 비행탑승 경험 만족도 (satisfaction 컬럼 : 'neutral or dissatisfied' or satisfied )   (83123, 24) shape     \n",
    "Data url :https://raw.githubusercontent.com/Datamanim/datarepo/main/airline/train.csv       \n",
    "```  "
   ]
  },
  {
   "cell_type": "code",
   "execution_count": null,
   "id": "432d068d",
   "metadata": {
    "ExecuteTime": {
     "end_time": "2022-01-30T07:47:02.683734Z",
     "start_time": "2022-01-30T07:47:01.044150Z"
    }
   },
   "outputs": [],
   "source": [
    "import pandas as pd\n",
    "df = pd.read_csv(\"https://raw.githubusercontent.com/Datamanim/datarepo/main/airline/train.csv\")\n",
    "df.head()"
   ]
  },
  {
   "cell_type": "markdown",
   "id": "9f148a24",
   "metadata": {},
   "source": [
    "## Question 92\n",
    "### **Arrival Delay in Minutes 컬럼이 결측치인 데이터들 중 'neutral or dissatisfied' 보다 'satisfied'의 수가 더 높은 Class는 어디 인가?**"
   ]
  },
  {
   "cell_type": "markdown",
   "id": "3572da07",
   "metadata": {},
   "source": [
    "### 수질 음용성 여부 데이터"
   ]
  },
  {
   "cell_type": "markdown",
   "id": "8de25816",
   "metadata": {},
   "source": [
    "```{attention} \n",
    "데이터 출처 :https://www.kaggle.com/adityakadiwal/water-potability    \n",
    "데이터 설명 : 수질 음용성 여부 (Potablillity 컬럼 : 0 ,1 )     \n",
    "Data url :https://raw.githubusercontent.com/Datamanim/datarepo/main/waters/train.csv     \n",
    "```  "
   ]
  },
  {
   "cell_type": "code",
   "execution_count": null,
   "id": "c518eee0",
   "metadata": {
    "ExecuteTime": {
     "end_time": "2022-01-31T03:06:14.613540Z",
     "start_time": "2022-01-31T03:06:14.155016Z"
    }
   },
   "outputs": [],
   "source": [
    "import pandas as pd\n",
    "df = pd.read_csv(\"https://raw.githubusercontent.com/Datamanim/datarepo/main/waters/train.csv\")\n",
    "df.head()"
   ]
  },
  {
   "cell_type": "markdown",
   "id": "ec597fea",
   "metadata": {},
   "source": [
    "## Question 93\n",
    "### **ph값은 상당히 많은 결측치를 포함한다. 결측치를 제외한 나머지 데이터들 중 사분위값 기준 하위 25%의 값들의 평균값은?**"
   ]
  },
  {
   "cell_type": "markdown",
   "id": "3a1ff716",
   "metadata": {},
   "source": [
    "### 의료 비용 예측 데이터"
   ]
  },
  {
   "cell_type": "markdown",
   "id": "cb5b6045",
   "metadata": {
    "ExecuteTime": {
     "end_time": "2022-01-31T03:05:13.165138Z",
     "start_time": "2022-01-31T03:05:13.160402Z"
    }
   },
   "source": [
    "```{attention} \n",
    "데이터 출처 :https://www.kaggle.com/mirichoi0218/insurance/code(참고, 데이터 수정)    \n",
    "데이터 설명 : 의료비용 예측문제     \n",
    "Data url :https://raw.githubusercontent.com/Datamanim/datarepo/main/MedicalCost/train.csv     \n",
    "```  "
   ]
  },
  {
   "cell_type": "code",
   "execution_count": null,
   "id": "2daebb9a",
   "metadata": {
    "ExecuteTime": {
     "end_time": "2022-01-31T03:06:52.141953Z",
     "start_time": "2022-01-31T03:06:51.836147Z"
    }
   },
   "outputs": [],
   "source": [
    "import pandas as pd\n",
    "train = pd.read_csv(\"https://raw.githubusercontent.com/Datamanim/datarepo/main/MedicalCost/train.csv\")\n",
    "train.head()"
   ]
  },
  {
   "cell_type": "markdown",
   "id": "935b1818",
   "metadata": {},
   "source": [
    "## Question 94\n",
    "### **흡연자와 비흡연자 각각 charges의 상위 10% 그룹의 평균의 차이는?**"
   ]
  },
  {
   "cell_type": "markdown",
   "id": "d47cb9cd",
   "metadata": {},
   "source": [
    "### 킹카운티 주거지 가격예측문제 데이터"
   ]
  },
  {
   "cell_type": "markdown",
   "id": "2ad17fdd",
   "metadata": {},
   "source": [
    "```{attention} \n",
    "데이터 출처 :https://www.kaggle.com/harlfoxem/housesalesprediction (참고, 데이터 수정)    \n",
    "데이터 설명 : 킹카운티 주거지 가격 예측문제     \n",
    "Data url :https://raw.githubusercontent.com/Datamanim/datarepo/main/kingcountyprice/train.csv         \n",
    "```  "
   ]
  },
  {
   "cell_type": "code",
   "execution_count": null,
   "id": "c3d7a190",
   "metadata": {
    "ExecuteTime": {
     "end_time": "2022-01-31T03:07:52.430088Z",
     "start_time": "2022-01-31T03:07:50.636964Z"
    }
   },
   "outputs": [],
   "source": [
    "import pandas as pd\n",
    "df = pd.read_csv(\"https://raw.githubusercontent.com/Datamanim/datarepo/main/kingcountyprice//train.csv\")\n",
    "df.head()"
   ]
  },
  {
   "cell_type": "markdown",
   "id": "ed61a58e",
   "metadata": {},
   "source": [
    "## Question 95\n",
    "### **bedrooms 의 빈도가 가장 높은 값을 가지는 데이터들의 price의 상위 10%와 하위 10%값의 차이를 구하여라**"
   ]
  },
  {
   "cell_type": "markdown",
   "id": "b1c00618",
   "metadata": {},
   "source": [
    "### 대학원 입학가능성 데이터"
   ]
  },
  {
   "cell_type": "markdown",
   "id": "713ef555",
   "metadata": {},
   "source": [
    "```{attention} \n",
    "데이터 출처 :https://www.kaggle.com/mohansacharya/graduate-admissions(참고, 데이터 수정)     \n",
    "데이터 설명 : 대학원 입학 가능성 예측     \n",
    "Data url :https://raw.githubusercontent.com/Datamanim/datarepo/main/admission/train.csv         \n",
    "```  "
   ]
  },
  {
   "cell_type": "code",
   "execution_count": null,
   "id": "a8bdef3a",
   "metadata": {
    "ExecuteTime": {
     "end_time": "2022-01-31T03:09:50.571551Z",
     "start_time": "2022-01-31T03:09:49.937881Z"
    }
   },
   "outputs": [],
   "source": [
    "import pandas as pd\n",
    "df = pd.read_csv(\"https://raw.githubusercontent.com/Datamanim/datarepo/main/admission/train.csv\")\n",
    "df.head()"
   ]
  },
  {
   "cell_type": "markdown",
   "id": "17fd1da6",
   "metadata": {},
   "source": [
    "## Question 96\n",
    "### **Serial No. 컬럼을 제외하고 'Chance of Admit'을 종속변수, 나머지 변수를 독립변수라 할때, 랜덤포레스트를 통해 회귀 예측을 할 떄 변수중요도 값을 출력하라 (시드값에 따라 순서는 달라질수 있음)**"
   ]
  },
  {
   "cell_type": "markdown",
   "id": "6a06c630",
   "metadata": {},
   "source": [
    "### 레드 와인 퀄리티 예측 데이터"
   ]
  },
  {
   "cell_type": "markdown",
   "id": "9d73769c",
   "metadata": {},
   "source": [
    "```{attention} \n",
    "데이터 출처 :https://www.kaggle.com/uciml/red-wine-quality-cortez-et-al-2009(참고, 데이터 수정)     \n",
    "데이터 설명 : 레드 와인 퀄리티 예측문제     \n",
    "Data url :https://raw.githubusercontent.com/Datamanim/datarepo/main/redwine/train.csv        \n",
    "```  "
   ]
  },
  {
   "cell_type": "code",
   "execution_count": null,
   "id": "e24929db",
   "metadata": {
    "ExecuteTime": {
     "end_time": "2022-01-31T03:11:30.504985Z",
     "start_time": "2022-01-31T03:11:29.831198Z"
    }
   },
   "outputs": [],
   "source": [
    "import pandas as pd\n",
    "df = pd.read_csv(\"https://raw.githubusercontent.com/Datamanim/datarepo/main/redwine/train.csv\")\n",
    "df.head()"
   ]
  },
  {
   "cell_type": "markdown",
   "id": "4ca58545",
   "metadata": {},
   "source": [
    "## Question 97\n",
    "### **quality 값이 3인 그룹과  8인 데이터그룹의 각 컬럼별 독립변수의 표준편차 값의 차이를 구할때 그값이 가장 큰 컬럼명을 구하여라**\n"
   ]
  },
  {
   "cell_type": "markdown",
   "id": "82deea7b",
   "metadata": {},
   "source": [
    "### 약물 분류 데이터"
   ]
  },
  {
   "cell_type": "markdown",
   "id": "dcc71275",
   "metadata": {},
   "source": [
    "```{attention} \n",
    "데이터 출처 :https://www.kaggle.com/prathamtripathi/drug-classification(참고, 데이터 수정)    \n",
    "데이터 설명 : 투약하는 약을 분류     \n",
    "Data url :https://raw.githubusercontent.com/Datamanim/datarepo/main/drug/train.csv         \n",
    "```  "
   ]
  },
  {
   "cell_type": "code",
   "execution_count": null,
   "id": "a244907a",
   "metadata": {
    "ExecuteTime": {
     "end_time": "2022-01-31T03:14:10.879190Z",
     "start_time": "2022-01-31T03:14:10.260456Z"
    }
   },
   "outputs": [],
   "source": [
    "import pandas as pd\n",
    "df = pd.read_csv(\"https://raw.githubusercontent.com/Datamanim/datarepo/main/drug/train.csv\")\n",
    "df.head()"
   ]
  },
  {
   "cell_type": "markdown",
   "id": "f75aa1a9",
   "metadata": {},
   "source": [
    "## Question 98\n",
    "### **남성들의 연령대별 (10살씩 구분 0~9세 10~19세 ...) Na_to_K값의 평균값을 구해서 데이터 프레임으로 표현하여라**"
   ]
  },
  {
   "cell_type": "markdown",
   "id": "e66eede6",
   "metadata": {},
   "source": [
    "### 사기회사 분류 데이터"
   ]
  },
  {
   "cell_type": "markdown",
   "id": "7cc3acc0",
   "metadata": {},
   "source": [
    "```{attention} \n",
    "데이터 출처 :https://www.kaggle.com/sid321axn/audit-data(참고, 데이터 수정)    \n",
    "데이터 설명 : 사기회사 분류    \n",
    "Data url :https://raw.githubusercontent.com/Datamanim/datarepo/main/audit/train.csv          \n",
    "```  "
   ]
  },
  {
   "cell_type": "code",
   "execution_count": null,
   "id": "88dfd20e",
   "metadata": {
    "ExecuteTime": {
     "end_time": "2022-01-31T03:15:18.664105Z",
     "start_time": "2022-01-31T03:15:17.900635Z"
    }
   },
   "outputs": [],
   "source": [
    "import pandas as pd\n",
    "df = pd.read_csv(\"https://raw.githubusercontent.com/Datamanim/datarepo/main/audit/train.csv\")\n",
    "df.head()"
   ]
  },
  {
   "cell_type": "markdown",
   "id": "26183305",
   "metadata": {},
   "source": [
    "## Question 99\n",
    "### **데이터의 Risk 값에 따른 score_a와 score_b의 평균값을 구하여라**"
   ]
  },
  {
   "cell_type": "markdown",
   "id": "dc12dc1e",
   "metadata": {},
   "source": [
    "### 센서데이터 동작유형 분류 데이터"
   ]
  },
  {
   "cell_type": "markdown",
   "id": "d0fa0b11",
   "metadata": {},
   "source": [
    "```{attention} \n",
    "데이터 출처 :https://www.kaggle.com/kyr7plus/emg-4(참고, 데이터 수정)    \n",
    "데이터 설명 : 센서데이터로 동작 유형 분류     \n",
    "Data url :https://raw.githubusercontent.com/Datamanim/datarepo/main/muscle/train.csv       \n",
    "```  "
   ]
  },
  {
   "cell_type": "code",
   "execution_count": null,
   "id": "33f5220a",
   "metadata": {
    "ExecuteTime": {
     "end_time": "2022-01-31T03:16:15.277626Z",
     "start_time": "2022-01-31T03:16:14.174517Z"
    }
   },
   "outputs": [],
   "source": [
    "import pandas as pd\n",
    "df = pd.read_csv(\"https://raw.githubusercontent.com/Datamanim/datarepo/main/muscle/train.csv\")\n",
    "df.head()"
   ]
  },
  {
   "cell_type": "markdown",
   "id": "9260a8cf",
   "metadata": {},
   "source": [
    "## Question 100\n",
    "### **pose값에 따른 각 motion컬럼의 중간값의 가장 큰 차이를 보이는 motion컬럼은 어디이며 그값은?**"
   ]
  },
  {
   "cell_type": "markdown",
   "id": "61681a7b",
   "metadata": {},
   "source": [
    "### 현대 차량 가격 분류문제 데이터"
   ]
  },
  {
   "cell_type": "markdown",
   "id": "fe326850",
   "metadata": {},
   "source": [
    "```{attention} \n",
    "데이터 출처 :https://www.kaggle.com/mysarahmadbhat/hyundai-used-car-listing(참고, 데이터 수정)     \n",
    "데이터 설명 : 현대 차량가격 분류문제     \n",
    "Data url :hhttps://raw.githubusercontent.com/Datamanim/datarepo/main/hyundai/train.csv        \n",
    "```  "
   ]
  },
  {
   "cell_type": "code",
   "execution_count": null,
   "id": "2bf1d532",
   "metadata": {
    "ExecuteTime": {
     "end_time": "2022-01-31T03:17:20.585992Z",
     "start_time": "2022-01-31T03:17:19.781174Z"
    }
   },
   "outputs": [],
   "source": [
    "import pandas as pd\n",
    "df = pd.read_csv(\"https://raw.githubusercontent.com/Datamanim/datarepo/main/hyundai/train.csv\")\n",
    "df.head()"
   ]
  },
  {
   "cell_type": "markdown",
   "id": "60ceebbb",
   "metadata": {},
   "source": [
    "## Question 101\n",
    "### **정보(row수)가 가장 많은 상위 3차종의 price값의 각 평균값은?**"
   ]
  },
  {
   "cell_type": "markdown",
   "id": "1833d59c",
   "metadata": {},
   "source": [
    "### 당뇨여부판단 데이터"
   ]
  },
  {
   "cell_type": "markdown",
   "id": "27434c52",
   "metadata": {},
   "source": [
    "```{attention} \n",
    "데이터 출처 :https://www.kaggle.com/pritsheta/diabetes-dataset(참고, 데이터 수정)     \n",
    "데이터 설명 :  당뇨여부 판단하기     \n",
    "Data url :https://raw.githubusercontent.com/Datamanim/datarepo/main/diabetes/train.csv      \n",
    "```  "
   ]
  },
  {
   "cell_type": "code",
   "execution_count": null,
   "id": "58862686",
   "metadata": {
    "ExecuteTime": {
     "end_time": "2022-01-31T03:18:09.681893Z",
     "start_time": "2022-01-31T03:18:09.045057Z"
    }
   },
   "outputs": [],
   "source": [
    "import pandas as pd\n",
    "df = pd.read_csv(\"https://raw.githubusercontent.com/Datamanim/datarepo/main/diabetes/train.csv\")\n",
    "df.head()"
   ]
  },
  {
   "cell_type": "markdown",
   "id": "24cb6e5a",
   "metadata": {},
   "source": [
    "## Question 102\n",
    "### **Outcome 값에 따른 각 그룹의  각 컬럼의 평균 차이를 구하여라**"
   ]
  },
  {
   "cell_type": "markdown",
   "id": "32bf3b35",
   "metadata": {},
   "source": [
    "### 넷플릭스 주식 데이터 "
   ]
  },
  {
   "cell_type": "markdown",
   "id": "46b393c7",
   "metadata": {},
   "source": [
    "```{attention} \n",
    "데이터 출처 :https://www.kaggle.com/pritsheta/netflix-stock-data-from-2002-to-2021(참고, 데이터 수정)     \n",
    "데이터 설명 : 넷플릭스 주식데이터     \n",
    "Data url :https://raw.githubusercontent.com/Datamanim/datarepo/main/nflx/NFLX.csv         \n",
    "```  "
   ]
  },
  {
   "cell_type": "code",
   "execution_count": null,
   "id": "f2cdc00e",
   "metadata": {
    "ExecuteTime": {
     "end_time": "2022-01-31T03:19:27.713943Z",
     "start_time": "2022-01-31T03:19:26.865639Z"
    }
   },
   "outputs": [],
   "source": [
    "import pandas as pd\n",
    "df = pd.read_csv(\"https://raw.githubusercontent.com/Datamanim/datarepo/main/nflx/NFLX.csv\")\n",
    "df.head()"
   ]
  },
  {
   "cell_type": "markdown",
   "id": "b1f4e5c9",
   "metadata": {},
   "source": [
    "## Question 103\n",
    "### **매년 5월달의 open가격의 평균값을 데이터 프레임으로 표현하라**"
   ]
  },
  {
   "cell_type": "markdown",
   "id": "b5128980",
   "metadata": {},
   "source": [
    "## 220510추가"
   ]
  },
  {
   "cell_type": "markdown",
   "id": "402461d1",
   "metadata": {
    "ExecuteTime": {
     "end_time": "2022-05-10T03:38:12.124295Z",
     "start_time": "2022-05-10T03:38:12.121797Z"
    }
   },
   "source": [
    "### nba 선수 능력치 데이터"
   ]
  },
  {
   "cell_type": "markdown",
   "id": "2088d570",
   "metadata": {
    "ExecuteTime": {
     "end_time": "2022-05-10T03:38:45.730013Z",
     "start_time": "2022-05-10T03:38:45.726176Z"
    }
   },
   "source": [
    "```{attention} \n",
    "데이터 출처 :https://www.kaggle.com/datasets/vivovinco/nba-player-stats(참고, 데이터 수정)     \n",
    "Data url :https://raw.githubusercontent.com/Datamanim/datarepo/main/nba/nba.csv         \n",
    "```  "
   ]
  },
  {
   "cell_type": "code",
   "execution_count": null,
   "id": "cfe2f93b",
   "metadata": {
    "ExecuteTime": {
     "end_time": "2022-05-10T03:45:24.278775Z",
     "start_time": "2022-05-10T03:45:23.811229Z"
    },
    "scrolled": true
   },
   "outputs": [],
   "source": [
    "pd.set_option('display.max_columns',50)\n",
    "import pandas as pd\n",
    "df = pd.read_csv(\"https://raw.githubusercontent.com/Datamanim/datarepo/main/nba/nba.csv\",encoding='latin',sep=';')\n",
    "df.head()"
   ]
  },
  {
   "cell_type": "markdown",
   "id": "7971be42",
   "metadata": {},
   "source": [
    "## Question 104\n",
    "### **Tm 컬럼은 각 팀의 이름을 의미한다. TOR팀의 평균나이를 소수 4째 자리까지 구하여라**"
   ]
  },
  {
   "cell_type": "markdown",
   "id": "ef448199",
   "metadata": {},
   "source": [
    "## Question 105\n",
    "### **Pos 컬럼은 포지션을 의미한다. 전체 선수 중 최소나이대의 선수들을 필터하고 그들 중 가장 많은 포지션은 무엇인지 확인하라**"
   ]
  },
  {
   "cell_type": "markdown",
   "id": "335b80f9",
   "metadata": {},
   "source": [
    "## Question 106\n",
    "### **선수들의 이름은 first_name+ 공백 + last_name으로 이루어져 있다. 가장 많은 first_name은 무엇이며 몇 회 발생하는지 확인하라**"
   ]
  },
  {
   "cell_type": "markdown",
   "id": "82c7cf8c",
   "metadata": {},
   "source": [
    "## Question 107\n",
    "### **PTS컬럼은 경기당 평균득점수 이다. 각포지션별로 경기당 평균득점수의 평균을 구하여라**"
   ]
  },
  {
   "cell_type": "markdown",
   "id": "9d1dd603",
   "metadata": {},
   "source": [
    "## Question 108\n",
    "### **PTS컬럼은 경기당 평균득점수 이다. 각포지션별로 경기당 평균득점수의 평균을 구하여라**"
   ]
  },
  {
   "cell_type": "markdown",
   "id": "81ba6c19",
   "metadata": {},
   "source": [
    "## Question 109\n",
    "### **G컬럼은 참여한 경기의 숫자이다. 각 팀별로 가장 높은 경기참여 수를 가진 선수들의 경기 참여 숫자의 평균을 구하여라**"
   ]
  },
  {
   "cell_type": "markdown",
   "id": "fbb65b95",
   "metadata": {},
   "source": [
    "## Question 110\n",
    "### **Tm의 값이 MIA이며 Pos는 C또는 PF인 선수의 MP값의 평균은?**"
   ]
  },
  {
   "cell_type": "markdown",
   "id": "3d841e56",
   "metadata": {},
   "source": [
    "## Question 111\n",
    "### **전체 데이터중 G의 평균값의 1.5배 이상인 데이터들만 추출했을때 3P값의 평균은?**"
   ]
  },
  {
   "cell_type": "markdown",
   "id": "65639621",
   "metadata": {},
   "source": [
    "## Question 112\n",
    "### **Age의 평균 이상인 그룹과 평균 미만인 그룹간의 G값의 평균의 차이는?**"
   ]
  },
  {
   "cell_type": "markdown",
   "id": "9fb49ef6",
   "metadata": {},
   "source": [
    "## Question 113\n",
    "### **평균나이가 가장 젊은 팀은 어디인가**"
   ]
  },
  {
   "cell_type": "markdown",
   "id": "5c47264d",
   "metadata": {},
   "source": [
    "## Question 114\n",
    "### **Pos그룹별 평균 MP값을 구하여라**"
   ]
  }
 ],
 "metadata": {
  "kernelspec": {
   "display_name": "Python 3 (ipykernel)",
   "language": "python",
   "name": "python3"
  },
  "language_info": {
   "codemirror_mode": {
    "name": "ipython",
    "version": 3
   },
   "file_extension": ".py",
   "mimetype": "text/x-python",
   "name": "python",
   "nbconvert_exporter": "python",
   "pygments_lexer": "ipython3",
   "version": "3.10.9"
  },
  "vscode": {
   "interpreter": {
    "hash": "082e9a3bcad0a290d0001e938aa60b99250c6c2ef33a923c00b70f9826caf4b7"
   }
  }
 },
 "nbformat": 4,
 "nbformat_minor": 5
}
