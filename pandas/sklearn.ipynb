{
 "cells": [
  {
   "cell_type": "code",
   "execution_count": 1,
   "id": "2b30afae-4298-4809-81be-51fbbc37722e",
   "metadata": {},
   "outputs": [],
   "source": [
    "from sklearn.preprocessing import MinMaxScaler\n",
    "sc = MinMaxScaler()"
   ]
  },
  {
   "cell_type": "code",
   "execution_count": 2,
   "id": "3b939cde-f53d-4db7-b83b-86e289e202c2",
   "metadata": {},
   "outputs": [
    {
     "data": {
      "text/plain": [
       "['BaseCrossValidator',\n",
       " 'BaseShuffleSplit',\n",
       " 'GridSearchCV',\n",
       " 'GroupKFold',\n",
       " 'GroupShuffleSplit']"
      ]
     },
     "execution_count": 2,
     "metadata": {},
     "output_type": "execute_result"
    }
   ],
   "source": [
    "import sklearn.model_selection\n",
    "dir(sklearn.model_selection)[:5]"
   ]
  },
  {
   "cell_type": "code",
   "execution_count": 8,
   "id": "d7582521-ca68-4f2d-8a2e-40fcbcc776d9",
   "metadata": {},
   "outputs": [
    {
     "data": {
      "text/plain": [
       "['neural_network',\n",
       " 'pipeline',\n",
       " 'preprocessing',\n",
       " 'random_projection',\n",
       " 'semi_supervised']"
      ]
     },
     "execution_count": 8,
     "metadata": {},
     "output_type": "execute_result"
    }
   ],
   "source": [
    "import sklearn\n",
    "sklearn.__all__[-15:-10]"
   ]
  },
  {
   "cell_type": "markdown",
   "id": "1fc765d3-3a25-494b-a339-bbee010e8520",
   "metadata": {},
   "source": [
    "## 01 데이터 전처리\n",
    "### **MinMaxScaler**"
   ]
  },
  {
   "cell_type": "code",
   "execution_count": 9,
   "id": "6e1d739b-8d2e-4473-8c19-9c5fe6da9253",
   "metadata": {},
   "outputs": [
    {
     "data": {
      "text/html": [
       "<div>\n",
       "<style scoped>\n",
       "    .dataframe tbody tr th:only-of-type {\n",
       "        vertical-align: middle;\n",
       "    }\n",
       "\n",
       "    .dataframe tbody tr th {\n",
       "        vertical-align: top;\n",
       "    }\n",
       "\n",
       "    .dataframe thead th {\n",
       "        text-align: right;\n",
       "    }\n",
       "</style>\n",
       "<table border=\"1\" class=\"dataframe\">\n",
       "  <thead>\n",
       "    <tr style=\"text-align: right;\">\n",
       "      <th></th>\n",
       "      <th>ID</th>\n",
       "      <th>Gender</th>\n",
       "      <th>Customer Type</th>\n",
       "      <th>Age</th>\n",
       "      <th>Type of Travel</th>\n",
       "      <th>Class</th>\n",
       "      <th>Flight Distance</th>\n",
       "      <th>Inflight wifi service</th>\n",
       "      <th>Departure/Arrival time convenient</th>\n",
       "      <th>Ease of Online booking</th>\n",
       "      <th>...</th>\n",
       "      <th>Inflight entertainment</th>\n",
       "      <th>On-board service</th>\n",
       "      <th>Leg room service</th>\n",
       "      <th>Baggage handling</th>\n",
       "      <th>Checkin service</th>\n",
       "      <th>Inflight service</th>\n",
       "      <th>Cleanliness</th>\n",
       "      <th>Departure Delay in Minutes</th>\n",
       "      <th>Arrival Delay in Minutes</th>\n",
       "      <th>id</th>\n",
       "    </tr>\n",
       "  </thead>\n",
       "  <tbody>\n",
       "    <tr>\n",
       "      <th>0</th>\n",
       "      <td>0</td>\n",
       "      <td>Female</td>\n",
       "      <td>Loyal Customer</td>\n",
       "      <td>54</td>\n",
       "      <td>Personal Travel</td>\n",
       "      <td>Eco</td>\n",
       "      <td>1068</td>\n",
       "      <td>3</td>\n",
       "      <td>4</td>\n",
       "      <td>3</td>\n",
       "      <td>...</td>\n",
       "      <td>5</td>\n",
       "      <td>5</td>\n",
       "      <td>3</td>\n",
       "      <td>5</td>\n",
       "      <td>3</td>\n",
       "      <td>5</td>\n",
       "      <td>3</td>\n",
       "      <td>47</td>\n",
       "      <td>22.0</td>\n",
       "      <td>NaN</td>\n",
       "    </tr>\n",
       "    <tr>\n",
       "      <th>1</th>\n",
       "      <td>2</td>\n",
       "      <td>Male</td>\n",
       "      <td>Loyal Customer</td>\n",
       "      <td>20</td>\n",
       "      <td>Personal Travel</td>\n",
       "      <td>Eco</td>\n",
       "      <td>1546</td>\n",
       "      <td>4</td>\n",
       "      <td>4</td>\n",
       "      <td>4</td>\n",
       "      <td>...</td>\n",
       "      <td>4</td>\n",
       "      <td>3</td>\n",
       "      <td>3</td>\n",
       "      <td>4</td>\n",
       "      <td>4</td>\n",
       "      <td>4</td>\n",
       "      <td>4</td>\n",
       "      <td>5</td>\n",
       "      <td>2.0</td>\n",
       "      <td>NaN</td>\n",
       "    </tr>\n",
       "  </tbody>\n",
       "</table>\n",
       "<p>2 rows × 24 columns</p>\n",
       "</div>"
      ],
      "text/plain": [
       "   ID  Gender   Customer Type  Age   Type of Travel Class  Flight Distance  \\\n",
       "0   0  Female  Loyal Customer   54  Personal Travel   Eco             1068   \n",
       "1   2    Male  Loyal Customer   20  Personal Travel   Eco             1546   \n",
       "\n",
       "   Inflight wifi service  Departure/Arrival time convenient  \\\n",
       "0                      3                                  4   \n",
       "1                      4                                  4   \n",
       "\n",
       "   Ease of Online booking  ...  Inflight entertainment  On-board service  \\\n",
       "0                       3  ...                       5                 5   \n",
       "1                       4  ...                       4                 3   \n",
       "\n",
       "   Leg room service  Baggage handling  Checkin service  Inflight service  \\\n",
       "0                 3                 5                3                 5   \n",
       "1                 3                 4                4                 4   \n",
       "\n",
       "   Cleanliness  Departure Delay in Minutes  Arrival Delay in Minutes  id  \n",
       "0            3                          47                      22.0 NaN  \n",
       "1            4                           5                       2.0 NaN  \n",
       "\n",
       "[2 rows x 24 columns]"
      ]
     },
     "metadata": {},
     "output_type": "display_data"
    }
   ],
   "source": [
    "import pandas as pd\n",
    "train = pd.read_csv('https://raw.githubusercontent.com/Datamanim/datarepo/main/airline/x_train.csv')\n",
    "test = pd.read_csv('https://raw.githubusercontent.com/Datamanim/datarepo/main/airline/x_test.csv')\n",
    "display(train.head(2))"
   ]
  },
  {
   "cell_type": "code",
   "execution_count": 10,
   "id": "bd36090c-7729-4d80-b966-a3d47b8fe8ce",
   "metadata": {},
   "outputs": [],
   "source": [
    "from sklearn.preprocessing import MinMaxScaler"
   ]
  },
  {
   "cell_type": "code",
   "execution_count": 26,
   "id": "13ff7768-fabe-42be-94f8-1c25b81f78fd",
   "metadata": {},
   "outputs": [
    {
     "data": {
      "image/png": "[encoded data removed]",
      "text/plain": [
       "<Figure size 640x480 with 2 Axes>"
      ]
     },
     "metadata": {},
     "output_type": "display_data"
    }
   ],
   "source": [
    "mm = MinMaxScaler()\n",
    "mm.fit(train['Flight Distance'].values.reshape(-1,1))\n",
    "\n",
    "scalingdata = mm.transform(train['Flight Distance'].values.reshape(-1,1))\n",
    "train['scaling'] = scalingdata\n",
    "\n",
    "##결과 시각화\n",
    "import matplotlib.pyplot as plt\n",
    "fig, ax = plt.subplots(1,2)\n",
    "\n",
    "ax[0].boxplot(train['Flight Distance'])\n",
    "ax[0].set_xticks([1])\n",
    "ax[0].set_xticklabels(['Raw'])\n",
    "ax[1].boxplot(scalingdata)\n",
    "ax[1].set_xticks([1])\n",
    "ax[1].set_xticklabels(['Sclaing data'])\n",
    "plt.show()"
   ]
  },
  {
   "cell_type": "code",
   "execution_count": null,
   "id": "b359191d-f69c-451c-96c9-bb8e54af746f",
   "metadata": {},
   "outputs": [],
   "source": []
  }
 ],
 "metadata": {
  "kernelspec": {
   "display_name": "Python 3 (ipykernel)",
   "language": "python",
   "name": "python3"
  },
  "language_info": {
   "codemirror_mode": {
    "name": "ipython",
    "version": 3
   },
   "file_extension": ".py",
   "mimetype": "text/x-python",
   "name": "python",
   "nbconvert_exporter": "python",
   "pygments_lexer": "ipython3",
   "version": "3.10.9"
  }
 },
 "nbformat": 4,
 "nbformat_minor": 5
}
