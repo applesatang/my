{
 "cells": [
  {
   "cell_type": "code",
   "execution_count": 1,
   "id": "2b30afae-4298-4809-81be-51fbbc37722e",
   "metadata": {},
   "outputs": [],
   "source": [
    "from sklearn.preprocessing import MinMaxScaler\n",
    "sc = MinMaxScaler()"
   ]
  },
  {
   "cell_type": "code",
   "execution_count": 2,
   "id": "3b939cde-f53d-4db7-b83b-86e289e202c2",
   "metadata": {},
   "outputs": [
    {
     "data": {
      "text/plain": [
       "['BaseCrossValidator',\n",
       " 'BaseShuffleSplit',\n",
       " 'GridSearchCV',\n",
       " 'GroupKFold',\n",
       " 'GroupShuffleSplit']"
      ]
     },
     "execution_count": 2,
     "metadata": {},
     "output_type": "execute_result"
    }
   ],
   "source": [
    "import sklearn.model_selection\n",
    "dir(sklearn.model_selection)[:5]"
   ]
  },
  {
   "cell_type": "code",
   "execution_count": 3,
   "id": "d7582521-ca68-4f2d-8a2e-40fcbcc776d9",
   "metadata": {},
   "outputs": [
    {
     "data": {
      "text/plain": [
       "['neural_network',\n",
       " 'pipeline',\n",
       " 'preprocessing',\n",
       " 'random_projection',\n",
       " 'semi_supervised']"
      ]
     },
     "execution_count": 3,
     "metadata": {},
     "output_type": "execute_result"
    }
   ],
   "source": [
    "import sklearn\n",
    "sklearn.__all__[-15:-10]"
   ]
  },
  {
   "cell_type": "markdown",
   "id": "1fc765d3-3a25-494b-a339-bbee010e8520",
   "metadata": {},
   "source": [
    "## 01 데이터 전처리\n",
    "### **MinMaxScaler**"
   ]
  },
  {
   "cell_type": "code",
   "execution_count": 4,
   "id": "6e1d739b-8d2e-4473-8c19-9c5fe6da9253",
   "metadata": {},
   "outputs": [
    {
     "data": {
      "text/html": [
       "<div>\n",
       "<style scoped>\n",
       "    .dataframe tbody tr th:only-of-type {\n",
       "        vertical-align: middle;\n",
       "    }\n",
       "\n",
       "    .dataframe tbody tr th {\n",
       "        vertical-align: top;\n",
       "    }\n",
       "\n",
       "    .dataframe thead th {\n",
       "        text-align: right;\n",
       "    }\n",
       "</style>\n",
       "<table border=\"1\" class=\"dataframe\">\n",
       "  <thead>\n",
       "    <tr style=\"text-align: right;\">\n",
       "      <th></th>\n",
       "      <th>ID</th>\n",
       "      <th>Gender</th>\n",
       "      <th>Customer Type</th>\n",
       "      <th>Age</th>\n",
       "      <th>Type of Travel</th>\n",
       "      <th>Class</th>\n",
       "      <th>Flight Distance</th>\n",
       "      <th>Inflight wifi service</th>\n",
       "      <th>Departure/Arrival time convenient</th>\n",
       "      <th>Ease of Online booking</th>\n",
       "      <th>...</th>\n",
       "      <th>Inflight entertainment</th>\n",
       "      <th>On-board service</th>\n",
       "      <th>Leg room service</th>\n",
       "      <th>Baggage handling</th>\n",
       "      <th>Checkin service</th>\n",
       "      <th>Inflight service</th>\n",
       "      <th>Cleanliness</th>\n",
       "      <th>Departure Delay in Minutes</th>\n",
       "      <th>Arrival Delay in Minutes</th>\n",
       "      <th>id</th>\n",
       "    </tr>\n",
       "  </thead>\n",
       "  <tbody>\n",
       "    <tr>\n",
       "      <th>0</th>\n",
       "      <td>0</td>\n",
       "      <td>Female</td>\n",
       "      <td>Loyal Customer</td>\n",
       "      <td>54</td>\n",
       "      <td>Personal Travel</td>\n",
       "      <td>Eco</td>\n",
       "      <td>1068</td>\n",
       "      <td>3</td>\n",
       "      <td>4</td>\n",
       "      <td>3</td>\n",
       "      <td>...</td>\n",
       "      <td>5</td>\n",
       "      <td>5</td>\n",
       "      <td>3</td>\n",
       "      <td>5</td>\n",
       "      <td>3</td>\n",
       "      <td>5</td>\n",
       "      <td>3</td>\n",
       "      <td>47</td>\n",
       "      <td>22.0</td>\n",
       "      <td>NaN</td>\n",
       "    </tr>\n",
       "    <tr>\n",
       "      <th>1</th>\n",
       "      <td>2</td>\n",
       "      <td>Male</td>\n",
       "      <td>Loyal Customer</td>\n",
       "      <td>20</td>\n",
       "      <td>Personal Travel</td>\n",
       "      <td>Eco</td>\n",
       "      <td>1546</td>\n",
       "      <td>4</td>\n",
       "      <td>4</td>\n",
       "      <td>4</td>\n",
       "      <td>...</td>\n",
       "      <td>4</td>\n",
       "      <td>3</td>\n",
       "      <td>3</td>\n",
       "      <td>4</td>\n",
       "      <td>4</td>\n",
       "      <td>4</td>\n",
       "      <td>4</td>\n",
       "      <td>5</td>\n",
       "      <td>2.0</td>\n",
       "      <td>NaN</td>\n",
       "    </tr>\n",
       "  </tbody>\n",
       "</table>\n",
       "<p>2 rows × 24 columns</p>\n",
       "</div>"
      ],
      "text/plain": [
       "   ID  Gender   Customer Type  Age   Type of Travel Class  Flight Distance  \\\n",
       "0   0  Female  Loyal Customer   54  Personal Travel   Eco             1068   \n",
       "1   2    Male  Loyal Customer   20  Personal Travel   Eco             1546   \n",
       "\n",
       "   Inflight wifi service  Departure/Arrival time convenient  \\\n",
       "0                      3                                  4   \n",
       "1                      4                                  4   \n",
       "\n",
       "   Ease of Online booking  ...  Inflight entertainment  On-board service  \\\n",
       "0                       3  ...                       5                 5   \n",
       "1                       4  ...                       4                 3   \n",
       "\n",
       "   Leg room service  Baggage handling  Checkin service  Inflight service  \\\n",
       "0                 3                 5                3                 5   \n",
       "1                 3                 4                4                 4   \n",
       "\n",
       "   Cleanliness  Departure Delay in Minutes  Arrival Delay in Minutes  id  \n",
       "0            3                          47                      22.0 NaN  \n",
       "1            4                           5                       2.0 NaN  \n",
       "\n",
       "[2 rows x 24 columns]"
      ]
     },
     "metadata": {},
     "output_type": "display_data"
    }
   ],
   "source": [
    "import pandas as pd\n",
    "train = pd.read_csv('https://raw.githubusercontent.com/Datamanim/datarepo/main/airline/x_train.csv')\n",
    "test = pd.read_csv('https://raw.githubusercontent.com/Datamanim/datarepo/main/airline/x_test.csv')\n",
    "display(train.head(2))"
   ]
  },
  {
   "cell_type": "code",
   "execution_count": 5,
   "id": "bd36090c-7729-4d80-b966-a3d47b8fe8ce",
   "metadata": {},
   "outputs": [],
   "source": [
    "from sklearn.preprocessing import MinMaxScaler"
   ]
  },
  {
   "cell_type": "code",
   "execution_count": 6,
   "id": "13ff7768-fabe-42be-94f8-1c25b81f78fd",
   "metadata": {},
   "outputs": [
    {
     "data": {
      "image/png": "[encoded data removed]",
      "text/plain": [
       "<Figure size 640x480 with 2 Axes>"
      ]
     },
     "metadata": {},
     "output_type": "display_data"
    }
   ],
   "source": [
    "mm = MinMaxScaler()\n",
    "mm.fit(train['Flight Distance'].values.reshape(-1,1))\n",
    "\n",
    "scalingdata = mm.transform(train['Flight Distance'].values.reshape(-1,1))\n",
    "train['scaling'] = scalingdata\n",
    "\n",
    "##결과 시각화\n",
    "import matplotlib.pyplot as plt\n",
    "fig, ax = plt.subplots(1,2)\n",
    "\n",
    "ax[0].boxplot(train['Flight Distance'])\n",
    "ax[0].set_xticks([1])\n",
    "ax[0].set_xticklabels(['Raw'])\n",
    "ax[1].boxplot(scalingdata)\n",
    "ax[1].set_xticks([1])\n",
    "ax[1].set_xticklabels(['Sclaing data'])\n",
    "plt.show()"
   ]
  },
  {
   "cell_type": "code",
   "execution_count": 7,
   "id": "b359191d-f69c-451c-96c9-bb8e54af746f",
   "metadata": {},
   "outputs": [
    {
     "data": {
      "image/png": "[encoded data removed]",
      "text/plain": [
       "<Figure size 640x480 with 2 Axes>"
      ]
     },
     "metadata": {},
     "output_type": "display_data"
    }
   ],
   "source": [
    "scaling = (train['Flight Distance'] - train['Flight Distance'].min())/(train['Flight Distance'].max() - train['Flight Distance'].min())\n",
    "train['scaling'] = scaling\n",
    "\n",
    "##결과 시각화\n",
    "import matplotlib.pyplot as plt\n",
    "fig , ax = plt.subplots(1,2)\n",
    "ax[0].boxplot(train['Flight Distance'])\n",
    "ax[0].set_xticks([1])\n",
    "ax[0].set_xticklabels(['Raw'])\n",
    "ax[1].boxplot(scaling)\n",
    "ax[1].set_xticks([1])\n",
    "ax[1].set_xticklabels(['Scaling'])\n",
    "plt.show()"
   ]
  },
  {
   "cell_type": "code",
   "execution_count": 8,
   "id": "d12aef8f-b8a0-4834-b1cb-25e2f3293784",
   "metadata": {},
   "outputs": [
    {
     "data": {
      "text/html": [
       "<div>\n",
       "<style scoped>\n",
       "    .dataframe tbody tr th:only-of-type {\n",
       "        vertical-align: middle;\n",
       "    }\n",
       "\n",
       "    .dataframe tbody tr th {\n",
       "        vertical-align: top;\n",
       "    }\n",
       "\n",
       "    .dataframe thead th {\n",
       "        text-align: right;\n",
       "    }\n",
       "</style>\n",
       "<table border=\"1\" class=\"dataframe\">\n",
       "  <thead>\n",
       "    <tr style=\"text-align: right;\">\n",
       "      <th></th>\n",
       "      <th>ID</th>\n",
       "      <th>age_scaling</th>\n",
       "    </tr>\n",
       "  </thead>\n",
       "  <tbody>\n",
       "    <tr>\n",
       "      <th>0</th>\n",
       "      <td>1</td>\n",
       "      <td>0.269231</td>\n",
       "    </tr>\n",
       "    <tr>\n",
       "      <th>1</th>\n",
       "      <td>16</td>\n",
       "      <td>0.346154</td>\n",
       "    </tr>\n",
       "    <tr>\n",
       "      <th>2</th>\n",
       "      <td>17</td>\n",
       "      <td>0.205128</td>\n",
       "    </tr>\n",
       "  </tbody>\n",
       "</table>\n",
       "</div>"
      ],
      "text/plain": [
       "   ID  age_scaling\n",
       "0   1     0.269231\n",
       "1  16     0.346154\n",
       "2  17     0.205128"
      ]
     },
     "metadata": {},
     "output_type": "display_data"
    }
   ],
   "source": [
    "from sklearn.preprocessing import MinMaxScaler\n",
    "mm = MinMaxScaler()\n",
    "mm.fit(train['Age'].values.reshape(-1,1))\n",
    "\n",
    "train['age_scaling'] = mm.transform(train['Age'].values.reshape(-1,1))\n",
    "test['age_scaling'] = mm.transform(test['Age'].values.reshape(-1,1))\n",
    "\n",
    "display(test[['ID','age_scaling']].head(3))"
   ]
  },
  {
   "cell_type": "markdown",
   "id": "cf539276-2dd2-4b8f-b42c-60ff66b3148f",
   "metadata": {},
   "source": [
    "### StandardScaler ###"
   ]
  },
  {
   "cell_type": "code",
   "execution_count": 9,
   "id": "c52a13fc-cd6a-44cb-9f6c-99feec21ad1f",
   "metadata": {},
   "outputs": [
    {
     "data": {
      "image/png": "[encoded data removed]",
      "text/plain": [
       "<Figure size 640x480 with 2 Axes>"
      ]
     },
     "metadata": {},
     "output_type": "display_data"
    },
    {
     "data": {
      "text/html": [
       "<style type=\"text/css\">\n",
       "</style>\n",
       "<table id=\"T_d0a13\" style ='display:inline'>\n",
       "  <caption>Caption table 1</caption>\n",
       "  <thead>\n",
       "    <tr>\n",
       "      <th class=\"blank level0\" >&nbsp;</th>\n",
       "      <th id=\"T_d0a13_level0_col0\" class=\"col_heading level0 col0\" >scaling</th>\n",
       "    </tr>\n",
       "  </thead>\n",
       "  <tbody>\n",
       "    <tr>\n",
       "      <th id=\"T_d0a13_level0_row0\" class=\"row_heading level0 row0\" >count</th>\n",
       "      <td id=\"T_d0a13_row0_col0\" class=\"data row0 col0\" >83123.000000</td>\n",
       "    </tr>\n",
       "    <tr>\n",
       "      <th id=\"T_d0a13_level0_row1\" class=\"row_heading level0 row1\" >mean</th>\n",
       "      <td id=\"T_d0a13_row1_col0\" class=\"data row1 col0\" >0.000000</td>\n",
       "    </tr>\n",
       "    <tr>\n",
       "      <th id=\"T_d0a13_level0_row2\" class=\"row_heading level0 row2\" >std</th>\n",
       "      <td id=\"T_d0a13_row2_col0\" class=\"data row2 col0\" >1.000000</td>\n",
       "    </tr>\n",
       "    <tr>\n",
       "      <th id=\"T_d0a13_level0_row3\" class=\"row_heading level0 row3\" >min</th>\n",
       "      <td id=\"T_d0a13_row3_col0\" class=\"data row3 col0\" >-2.142709</td>\n",
       "    </tr>\n",
       "    <tr>\n",
       "      <th id=\"T_d0a13_level0_row4\" class=\"row_heading level0 row4\" >25%</th>\n",
       "      <td id=\"T_d0a13_row4_col0\" class=\"data row4 col0\" >-0.818424</td>\n",
       "    </tr>\n",
       "    <tr>\n",
       "      <th id=\"T_d0a13_level0_row5\" class=\"row_heading level0 row5\" >50%</th>\n",
       "      <td id=\"T_d0a13_row5_col0\" class=\"data row5 col0\" >0.042361</td>\n",
       "    </tr>\n",
       "    <tr>\n",
       "      <th id=\"T_d0a13_level0_row6\" class=\"row_heading level0 row6\" >75%</th>\n",
       "      <td id=\"T_d0a13_row6_col0\" class=\"data row6 col0\" >0.770717</td>\n",
       "    </tr>\n",
       "    <tr>\n",
       "      <th id=\"T_d0a13_level0_row7\" class=\"row_heading level0 row7\" >max</th>\n",
       "      <td id=\"T_d0a13_row7_col0\" class=\"data row7 col0\" >3.022001</td>\n",
       "    </tr>\n",
       "  </tbody>\n",
       "</table>\n",
       "<style type=\"text/css\">\n",
       "</style>\n",
       "<table id=\"T_60f2a\" style ='display:inline'>\n",
       "  <caption>Caption table 2</caption>\n",
       "  <thead>\n",
       "    <tr>\n",
       "      <th class=\"blank level0\" >&nbsp;</th>\n",
       "      <th id=\"T_60f2a_level0_col0\" class=\"col_heading level0 col0\" >scaling_ddof0</th>\n",
       "    </tr>\n",
       "  </thead>\n",
       "  <tbody>\n",
       "    <tr>\n",
       "      <th id=\"T_60f2a_level0_row0\" class=\"row_heading level0 row0\" >count</th>\n",
       "      <td id=\"T_60f2a_row0_col0\" class=\"data row0 col0\" >83123.000000</td>\n",
       "    </tr>\n",
       "    <tr>\n",
       "      <th id=\"T_60f2a_level0_row1\" class=\"row_heading level0 row1\" >mean</th>\n",
       "      <td id=\"T_60f2a_row1_col0\" class=\"data row1 col0\" >0.000000</td>\n",
       "    </tr>\n",
       "    <tr>\n",
       "      <th id=\"T_60f2a_level0_row2\" class=\"row_heading level0 row2\" >std</th>\n",
       "      <td id=\"T_60f2a_row2_col0\" class=\"data row2 col0\" >1.000006</td>\n",
       "    </tr>\n",
       "    <tr>\n",
       "      <th id=\"T_60f2a_level0_row3\" class=\"row_heading level0 row3\" >min</th>\n",
       "      <td id=\"T_60f2a_row3_col0\" class=\"data row3 col0\" >-2.142722</td>\n",
       "    </tr>\n",
       "    <tr>\n",
       "      <th id=\"T_60f2a_level0_row4\" class=\"row_heading level0 row4\" >25%</th>\n",
       "      <td id=\"T_60f2a_row4_col0\" class=\"data row4 col0\" >-0.818429</td>\n",
       "    </tr>\n",
       "    <tr>\n",
       "      <th id=\"T_60f2a_level0_row5\" class=\"row_heading level0 row5\" >50%</th>\n",
       "      <td id=\"T_60f2a_row5_col0\" class=\"data row5 col0\" >0.042361</td>\n",
       "    </tr>\n",
       "    <tr>\n",
       "      <th id=\"T_60f2a_level0_row6\" class=\"row_heading level0 row6\" >75%</th>\n",
       "      <td id=\"T_60f2a_row6_col0\" class=\"data row6 col0\" >0.770722</td>\n",
       "    </tr>\n",
       "    <tr>\n",
       "      <th id=\"T_60f2a_level0_row7\" class=\"row_heading level0 row7\" >max</th>\n",
       "      <td id=\"T_60f2a_row7_col0\" class=\"data row7 col0\" >3.022019</td>\n",
       "    </tr>\n",
       "  </tbody>\n",
       "</table>\n"
      ]
     },
     "metadata": {},
     "output_type": "display_data"
    }
   ],
   "source": [
    "scaling_ddof1 = (train['Age'] - train['Age'].mean())/(train['Age'].std())\n",
    "train['scaling'] = scaling_ddof1\n",
    "\n",
    "scaling_ddof0 = (train['Age'] -train['Age'].mean()) / (train['Age'].std(ddof=0))\n",
    "train['scaling_ddof0'] = scaling_ddof0\n",
    "\n",
    "##결과 시각화\n",
    "import matplotlib.pyplot as plt\n",
    "fig , ax = plt.subplots(1,2)\n",
    "ax[0].boxplot(train['scaling'])\n",
    "ax[0].set_xticks([1])\n",
    "ax[0].set_xticklabels(['ddof 0 \\ndefault'])\n",
    "ax[1].boxplot(train['scaling_ddof0'])\n",
    "ax[1].set_xticks([1])\n",
    "ax[1].set_xticklabels(['ddof 1'])\n",
    "plt.show()\n",
    "\n",
    "from IPython.display import display_html\n",
    "\n",
    "df1 = train[['scaling']].describe()\n",
    "df2 = train[['scaling_ddof0']].describe()\n",
    "\n",
    "df1_styler = df1.style.set_table_attributes(\"style ='display:inline'\").set_caption('Caption table 1')\n",
    "df2_styler = df2.style.set_table_attributes(\"style ='display:inline'\").set_caption('Caption table 2')\n",
    "\n",
    "display_html(df1_styler._repr_html_()+df2_styler._repr_html_(), raw =True)"
   ]
  },
  {
   "cell_type": "code",
   "execution_count": 10,
   "id": "e89dc858-9604-471e-92e1-67380ba0eaa5",
   "metadata": {},
   "outputs": [
    {
     "data": {
      "text/html": [
       "<div>\n",
       "<style scoped>\n",
       "    .dataframe tbody tr th:only-of-type {\n",
       "        vertical-align: middle;\n",
       "    }\n",
       "\n",
       "    .dataframe tbody tr th {\n",
       "        vertical-align: top;\n",
       "    }\n",
       "\n",
       "    .dataframe thead th {\n",
       "        text-align: right;\n",
       "    }\n",
       "</style>\n",
       "<table border=\"1\" class=\"dataframe\">\n",
       "  <thead>\n",
       "    <tr style=\"text-align: right;\">\n",
       "      <th></th>\n",
       "      <th>ID</th>\n",
       "      <th>age_scaling</th>\n",
       "    </tr>\n",
       "  </thead>\n",
       "  <tbody>\n",
       "    <tr>\n",
       "      <th>0</th>\n",
       "      <td>1</td>\n",
       "      <td>-0.752215</td>\n",
       "    </tr>\n",
       "    <tr>\n",
       "      <th>1</th>\n",
       "      <td>16</td>\n",
       "      <td>-0.354927</td>\n",
       "    </tr>\n",
       "    <tr>\n",
       "      <th>2</th>\n",
       "      <td>17</td>\n",
       "      <td>-1.083288</td>\n",
       "    </tr>\n",
       "  </tbody>\n",
       "</table>\n",
       "</div>"
      ],
      "text/plain": [
       "   ID  age_scaling\n",
       "0   1    -0.752215\n",
       "1  16    -0.354927\n",
       "2  17    -1.083288"
      ]
     },
     "metadata": {},
     "output_type": "display_data"
    },
    {
     "data": {
      "image/png": "[encoded data removed]",
      "text/plain": [
       "<Figure size 640x480 with 2 Axes>"
      ]
     },
     "metadata": {},
     "output_type": "display_data"
    }
   ],
   "source": [
    "from sklearn.preprocessing import StandardScaler\n",
    "\n",
    "sc = StandardScaler()\n",
    "sc.fit(train['Age'].values.reshape(-1,1))\n",
    "\n",
    "train['age_scaling'] = sc.transform(train['Age'].values.reshape(-1,1))\n",
    "test['age_scaling'] = sc.transform(test['Age'].values.reshape(-1,1))\n",
    "\n",
    "display(test[['ID','age_scaling']].head(3))\n",
    "\n",
    "#결과 시각화\n",
    "import matplotlib.pyplot as plt\n",
    "fig , ax = plt.subplots(1,2)\n",
    "ax[0].boxplot(train['Age'])\n",
    "ax[0].set_xticks([1])\n",
    "ax[0].set_xticklabels(['Raw'])\n",
    "ax[1].boxplot(train['age_scaling'])\n",
    "ax[1].set_xticks([1])\n",
    "ax[1].set_xticklabels(['age_scaling'])\n",
    "plt.show()"
   ]
  },
  {
   "cell_type": "markdown",
   "id": "abcffdd5-b2dc-4c7b-86d0-ab5bc986ff1b",
   "metadata": {
    "tags": []
   },
   "source": [
    "### LableEncoder ###"
   ]
  },
  {
   "cell_type": "code",
   "execution_count": 11,
   "id": "dfc31561-1b1b-4fd6-8a37-cf20bde12d96",
   "metadata": {},
   "outputs": [
    {
     "data": {
      "text/html": [
       "<div>\n",
       "<style scoped>\n",
       "    .dataframe tbody tr th:only-of-type {\n",
       "        vertical-align: middle;\n",
       "    }\n",
       "\n",
       "    .dataframe tbody tr th {\n",
       "        vertical-align: top;\n",
       "    }\n",
       "\n",
       "    .dataframe thead th {\n",
       "        text-align: right;\n",
       "    }\n",
       "</style>\n",
       "<table border=\"1\" class=\"dataframe\">\n",
       "  <thead>\n",
       "    <tr style=\"text-align: right;\">\n",
       "      <th></th>\n",
       "      <th>enrollee_id</th>\n",
       "      <th>city</th>\n",
       "      <th>city_development_index</th>\n",
       "      <th>gender</th>\n",
       "      <th>relevent_experience</th>\n",
       "      <th>enrolled_university</th>\n",
       "      <th>education_level</th>\n",
       "      <th>major_discipline</th>\n",
       "      <th>experience</th>\n",
       "      <th>company_size</th>\n",
       "      <th>company_type</th>\n",
       "      <th>last_new_job</th>\n",
       "      <th>training_hours</th>\n",
       "    </tr>\n",
       "  </thead>\n",
       "  <tbody>\n",
       "    <tr>\n",
       "      <th>0</th>\n",
       "      <td>25298</td>\n",
       "      <td>city_138</td>\n",
       "      <td>0.836</td>\n",
       "      <td>Male</td>\n",
       "      <td>No relevent experience</td>\n",
       "      <td>Full time course</td>\n",
       "      <td>High School</td>\n",
       "      <td>NaN</td>\n",
       "      <td>5</td>\n",
       "      <td>100-500</td>\n",
       "      <td>Pvt Ltd</td>\n",
       "      <td>1</td>\n",
       "      <td>45</td>\n",
       "    </tr>\n",
       "    <tr>\n",
       "      <th>1</th>\n",
       "      <td>4241</td>\n",
       "      <td>city_160</td>\n",
       "      <td>0.920</td>\n",
       "      <td>Male</td>\n",
       "      <td>No relevent experience</td>\n",
       "      <td>Full time course</td>\n",
       "      <td>High School</td>\n",
       "      <td>NaN</td>\n",
       "      <td>5</td>\n",
       "      <td>NaN</td>\n",
       "      <td>NaN</td>\n",
       "      <td>1</td>\n",
       "      <td>17</td>\n",
       "    </tr>\n",
       "  </tbody>\n",
       "</table>\n",
       "</div>"
      ],
      "text/plain": [
       "   enrollee_id      city  city_development_index gender  \\\n",
       "0        25298  city_138                   0.836   Male   \n",
       "1         4241  city_160                   0.920   Male   \n",
       "\n",
       "      relevent_experience enrolled_university education_level  \\\n",
       "0  No relevent experience    Full time course     High School   \n",
       "1  No relevent experience    Full time course     High School   \n",
       "\n",
       "  major_discipline experience company_size company_type last_new_job  \\\n",
       "0              NaN          5      100-500      Pvt Ltd            1   \n",
       "1              NaN          5          NaN          NaN            1   \n",
       "\n",
       "   training_hours  \n",
       "0              45  \n",
       "1              17  "
      ]
     },
     "metadata": {},
     "output_type": "display_data"
    }
   ],
   "source": [
    "import pandas as pd\n",
    "#데이터 로드\n",
    "\n",
    "train = pd.read_csv('https://raw.githubusercontent.com/Datamanim/datarepo/main/HRdata/X_train.csv')\n",
    "test = pd.read_csv('https://raw.githubusercontent.com/Datamanim/datarepo/main/HRdata/X_test.csv')\n",
    "display(train.head(2))"
   ]
  },
  {
   "cell_type": "markdown",
   "id": "eb241e05-ec59-45a2-a1df-2cf82f3ca433",
   "metadata": {},
   "source": [
    "## 02 모델링 전처리\n",
    "### **train_test_split**"
   ]
  },
  {
   "cell_type": "code",
   "execution_count": 12,
   "id": "302d443e-9445-4ac6-bbb1-2af339523168",
   "metadata": {},
   "outputs": [
    {
     "data": {
      "text/html": [
       "<div>\n",
       "<style scoped>\n",
       "    .dataframe tbody tr th:only-of-type {\n",
       "        vertical-align: middle;\n",
       "    }\n",
       "\n",
       "    .dataframe tbody tr th {\n",
       "        vertical-align: top;\n",
       "    }\n",
       "\n",
       "    .dataframe thead th {\n",
       "        text-align: right;\n",
       "    }\n",
       "</style>\n",
       "<table border=\"1\" class=\"dataframe\">\n",
       "  <thead>\n",
       "    <tr style=\"text-align: right;\">\n",
       "      <th></th>\n",
       "      <th>ID</th>\n",
       "      <th>Age</th>\n",
       "      <th>Sex</th>\n",
       "      <th>BP</th>\n",
       "      <th>Cholesterol</th>\n",
       "      <th>Na_to_K</th>\n",
       "    </tr>\n",
       "  </thead>\n",
       "  <tbody>\n",
       "    <tr>\n",
       "      <th>0</th>\n",
       "      <td>0</td>\n",
       "      <td>36</td>\n",
       "      <td>F</td>\n",
       "      <td>NORMAL</td>\n",
       "      <td>HIGH</td>\n",
       "      <td>16.753</td>\n",
       "    </tr>\n",
       "    <tr>\n",
       "      <th>1</th>\n",
       "      <td>1</td>\n",
       "      <td>47</td>\n",
       "      <td>F</td>\n",
       "      <td>LOW</td>\n",
       "      <td>HIGH</td>\n",
       "      <td>11.767</td>\n",
       "    </tr>\n",
       "  </tbody>\n",
       "</table>\n",
       "</div>"
      ],
      "text/plain": [
       "   ID  Age Sex      BP Cholesterol  Na_to_K\n",
       "0   0   36   F  NORMAL        HIGH   16.753\n",
       "1   1   47   F     LOW        HIGH   11.767"
      ]
     },
     "metadata": {},
     "output_type": "display_data"
    },
    {
     "data": {
      "text/html": [
       "<div>\n",
       "<style scoped>\n",
       "    .dataframe tbody tr th:only-of-type {\n",
       "        vertical-align: middle;\n",
       "    }\n",
       "\n",
       "    .dataframe tbody tr th {\n",
       "        vertical-align: top;\n",
       "    }\n",
       "\n",
       "    .dataframe thead th {\n",
       "        text-align: right;\n",
       "    }\n",
       "</style>\n",
       "<table border=\"1\" class=\"dataframe\">\n",
       "  <thead>\n",
       "    <tr style=\"text-align: right;\">\n",
       "      <th></th>\n",
       "      <th>Drug</th>\n",
       "    </tr>\n",
       "  </thead>\n",
       "  <tbody>\n",
       "    <tr>\n",
       "      <th>0</th>\n",
       "      <td>0</td>\n",
       "    </tr>\n",
       "    <tr>\n",
       "      <th>1</th>\n",
       "      <td>3</td>\n",
       "    </tr>\n",
       "  </tbody>\n",
       "</table>\n",
       "</div>"
      ],
      "text/plain": [
       "   Drug\n",
       "0     0\n",
       "1     3"
      ]
     },
     "metadata": {},
     "output_type": "display_data"
    }
   ],
   "source": [
    "import pandas as pd\n",
    "x = pd.read_csv('https://raw.githubusercontent.com/Datamanim/datarepo/main/drug/x_train.csv')\n",
    "y = pd.read_csv('https://raw.githubusercontent.com/Datamanim/datarepo/main/drug/y_train.csv')[['Drug']]\n",
    "display(x.head(2))\n",
    "display(y.head(2))"
   ]
  },
  {
   "cell_type": "markdown",
   "id": "565715ed-2ea3-45db-8781-fc03d2a59e86",
   "metadata": {},
   "source": [
    "### **x,y데이터에서 train,test세트를 구분하고 train셋의 y값과 test셋의 y값의 unique한 value 값의 숫자를 출력하라. train:test는 7:3비율 , random_state =42로 고정**"
   ]
  },
  {
   "cell_type": "code",
   "execution_count": 13,
   "id": "d1e06a09-859d-4bdd-86cc-008c0d417267",
   "metadata": {},
   "outputs": [
    {
     "data": {
      "text/html": [
       "<div>\n",
       "<style scoped>\n",
       "    .dataframe tbody tr th:only-of-type {\n",
       "        vertical-align: middle;\n",
       "    }\n",
       "\n",
       "    .dataframe tbody tr th {\n",
       "        vertical-align: top;\n",
       "    }\n",
       "\n",
       "    .dataframe thead th {\n",
       "        text-align: right;\n",
       "    }\n",
       "</style>\n",
       "<table border=\"1\" class=\"dataframe\">\n",
       "  <thead>\n",
       "    <tr style=\"text-align: right;\">\n",
       "      <th></th>\n",
       "      <th>Drug</th>\n",
       "      <th>train</th>\n",
       "      <th>test</th>\n",
       "    </tr>\n",
       "  </thead>\n",
       "  <tbody>\n",
       "    <tr>\n",
       "      <th>0</th>\n",
       "      <td>0</td>\n",
       "      <td>54</td>\n",
       "      <td>18</td>\n",
       "    </tr>\n",
       "    <tr>\n",
       "      <th>1</th>\n",
       "      <td>4</td>\n",
       "      <td>29</td>\n",
       "      <td>14</td>\n",
       "    </tr>\n",
       "    <tr>\n",
       "      <th>2</th>\n",
       "      <td>1</td>\n",
       "      <td>13</td>\n",
       "      <td>5</td>\n",
       "    </tr>\n",
       "    <tr>\n",
       "      <th>3</th>\n",
       "      <td>2</td>\n",
       "      <td>8</td>\n",
       "      <td>4</td>\n",
       "    </tr>\n",
       "    <tr>\n",
       "      <th>4</th>\n",
       "      <td>3</td>\n",
       "      <td>5</td>\n",
       "      <td>7</td>\n",
       "    </tr>\n",
       "  </tbody>\n",
       "</table>\n",
       "</div>"
      ],
      "text/plain": [
       "   Drug  train  test\n",
       "0     0     54    18\n",
       "1     4     29    14\n",
       "2     1     13     5\n",
       "3     2      8     4\n",
       "4     3      5     7"
      ]
     },
     "execution_count": 13,
     "metadata": {},
     "output_type": "execute_result"
    }
   ],
   "source": [
    "from sklearn.model_selection import train_test_split\n",
    "X_train, X_test, y_train, y_test = train_test_split(x,y,test_size = 0.3, random_state = 42)\n",
    "\n",
    "y.columns = ['Class']\n",
    "t = pd.concat([y_train.value_counts(),y_test.value_counts()],axis=1).rename(columns={0:'train', 1:'test'}).reset_index()\n",
    "t"
   ]
  },
  {
   "cell_type": "markdown",
   "id": "6597d686-4810-4ca4-9dbc-48d94985bf15",
   "metadata": {},
   "source": [
    "### **x,y데이터에서 train,test세트를 구분하고 train셋의 y값과 test셋의 y값의 unique한 value 값의 비율을 동일하게 추출하라. 7:3비율 , random_state =42로 고정**"
   ]
  },
  {
   "cell_type": "code",
   "execution_count": 16,
   "id": "afe14587-b086-47d4-9545-221fc6be194f",
   "metadata": {},
   "outputs": [
    {
     "data": {
      "text/html": [
       "<div>\n",
       "<style scoped>\n",
       "    .dataframe tbody tr th:only-of-type {\n",
       "        vertical-align: middle;\n",
       "    }\n",
       "\n",
       "    .dataframe tbody tr th {\n",
       "        vertical-align: top;\n",
       "    }\n",
       "\n",
       "    .dataframe thead th {\n",
       "        text-align: right;\n",
       "    }\n",
       "</style>\n",
       "<table border=\"1\" class=\"dataframe\">\n",
       "  <thead>\n",
       "    <tr style=\"text-align: right;\">\n",
       "      <th></th>\n",
       "      <th>Class</th>\n",
       "      <th>train</th>\n",
       "      <th>test</th>\n",
       "    </tr>\n",
       "  </thead>\n",
       "  <tbody>\n",
       "    <tr>\n",
       "      <th>0</th>\n",
       "      <td>0</td>\n",
       "      <td>50</td>\n",
       "      <td>22</td>\n",
       "    </tr>\n",
       "    <tr>\n",
       "      <th>1</th>\n",
       "      <td>4</td>\n",
       "      <td>30</td>\n",
       "      <td>13</td>\n",
       "    </tr>\n",
       "    <tr>\n",
       "      <th>2</th>\n",
       "      <td>1</td>\n",
       "      <td>13</td>\n",
       "      <td>5</td>\n",
       "    </tr>\n",
       "    <tr>\n",
       "      <th>3</th>\n",
       "      <td>2</td>\n",
       "      <td>8</td>\n",
       "      <td>4</td>\n",
       "    </tr>\n",
       "    <tr>\n",
       "      <th>4</th>\n",
       "      <td>3</td>\n",
       "      <td>8</td>\n",
       "      <td>4</td>\n",
       "    </tr>\n",
       "  </tbody>\n",
       "</table>\n",
       "</div>"
      ],
      "text/plain": [
       "   Class  train  test\n",
       "0      0     50    22\n",
       "1      4     30    13\n",
       "2      1     13     5\n",
       "3      2      8     4\n",
       "4      3      8     4"
      ]
     },
     "metadata": {},
     "output_type": "display_data"
    }
   ],
   "source": [
    "from sklearn.model_selection import train_test_split\n",
    "X_train, X_test , y_train , y_test = train_test_split(x,y,test_size =0.3, random_state = 42, stratify=y)\n",
    "y.columns = ['Class']\n",
    "t = pd.concat([y_train.value_counts(),y_test.value_counts()], axis=1).rename(columns = {0: 'train', 1: 'test'}).reset_index()\n",
    "display(t)"
   ]
  },
  {
   "cell_type": "markdown",
   "id": "1c825ae5-ede4-4771-99fa-72e2abe1d340",
   "metadata": {},
   "source": [
    "## 모델링"
   ]
  },
  {
   "cell_type": "code",
   "execution_count": null,
   "id": "5c9bd156-c455-40dd-8fd9-12c888c18f55",
   "metadata": {},
   "outputs": [],
   "source": []
  }
 ],
 "metadata": {
  "kernelspec": {
   "display_name": "Python 3 (ipykernel)",
   "language": "python",
   "name": "python3"
  },
  "language_info": {
   "codemirror_mode": {
    "name": "ipython",
    "version": 3
   },
   "file_extension": ".py",
   "mimetype": "text/x-python",
   "name": "python",
   "nbconvert_exporter": "python",
   "pygments_lexer": "ipython3",
   "version": "3.10.9"
  }
 },
 "nbformat": 4,
 "nbformat_minor": 5
}
